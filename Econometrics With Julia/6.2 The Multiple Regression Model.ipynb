{
 "cells": [
  {
   "cell_type": "markdown",
   "metadata": {},
   "source": [
    "## 6.2 The Multiple Regression Model"
   ]
  },
  {
   "cell_type": "markdown",
   "metadata": {},
   "source": [
    "- A multiple regression model enables us to estimate the effect on $Y_i$ of changing a regressor $X_{1i}$ if the remaining regressors $X_{2i},\\dots,X_{ki}$ do not vary.\n",
    "- For example, the interpretation of the coefficient on student-teacher ratio is the effect on test scores of a one unit change student-teacher ratio if the percentage of English learners is kept constant.\n",
    "- Just like in the simple regression model, we assume the true relationship between $Y$ and $X_{1i},X_{2i}\\dots\\dots,X_{ki}$ to be linear. \n",
    "- On average, this relation is given by the population regression function \n",
    "\n",
    "\\begin{equation}\n",
    "E(Y_i\\vert X_{1i}=x_1, X_{2i}=x_2,  X_{3i}=x_3,\\dots, X_{ki}=x_k) = \\beta_0 + \\beta_1 x_1 + \\beta_2 x_2 + \\beta_3 x_3 + \\dots + \\beta_k x_k\n",
    "\\end{equation}\n",
    "\n",
    "- As in the simple regression model, the relation $Y_i = \\beta_0 + \\beta_1 X_{1i} + \\beta_2 X_{2i} + \\beta_3 X_{3i} + \\dots + \\beta_k X_{ki}$ does not hold exactly since there are disturbing influences to the dependent variable $Y$ we cannot observe as explanatory variables. \n",
    "- Therefore we add an error term $u$ which represents deviations of the observations from the population regression line, yielding the population multiple regression model.\n",
    "\n",
    "\\begin{equation}\n",
    "Y_i = \\beta_0 + \\beta_1 X_{1i} + \\beta_2 X_{2i} + \\beta_3 X_{3i} + \\dots + \\beta_k X_{ki} + u_i, \\ i=1,\\dots,n\n",
    "\\end{equation}\n",
    "\n",
    "- Similarly to the simple regression model, the coefficients of the multiple regression model can be estimated using OLS. \n",
    "- As in the simple model, we seek to minimize the sum of squared mistakes by choosing estimates $b_0,b_1,\\dots,b_k$ for the coefficients $\\beta_0,\\beta_1,\\dots,\\beta_k$.\n",
    "\n",
    "\\begin{equation}\n",
    "\\sum_{i=1}^n (Y_i - b_0 - b_1 X_{1i} - b_2 X_{2i} - \\dots -  b_k X_{ki})^2\n",
    "\\end{equation}\n",
    "\n",
    "- In the previous chapter, we ran a multiple regression using the regressor variables of the student teacher ratio and the percentage of english learners.\n",
    "\n",
    "\\begin{equation}\n",
    "TestScore = \\beta_0 + \\beta_1 \\times STR + \\beta_2 \\times PctEL\n",
    "\\end{equation}"
   ]
  },
  {
   "cell_type": "code",
   "execution_count": 1,
   "metadata": {},
   "outputs": [
    {
     "name": "stdout",
     "output_type": "stream",
     "text": [
      "================================================================================\n"
     ]
    },
    {
     "data": {
      "text/plain": [
       "                                  Linear Model                                  \n",
       "================================================================================\n",
       "Number of obs:                      420  Degrees of freedom:                   3\n",
       "R2:                               0.426  R2 Adjusted:                      0.424\n",
       "F Statistic:                    8.69304  p-value:                          0.000\n",
       "                        Estimate Std.Error  t value Pr(>|t|) Lower 95% Upper 95%\n",
       "student_teacher_ratio    -1.1013  0.380278 -2.89603    0.004   -1.8488 -0.353794\n",
       "english                -0.649777 0.0393425 -16.5159    0.000 -0.727111 -0.572442\n",
       "(Intercept)              686.032   7.41131  92.5656    0.000   671.464     700.6\n"
      ]
     },
     "execution_count": 1,
     "metadata": {},
     "output_type": "execute_result"
    },
    {
     "name": "stdout",
     "output_type": "stream",
     "text": [
      "--------------------------------------------------------------------------------\n",
      "================================================================================\n"
     ]
    }
   ],
   "source": [
    "using FixedEffects #FixedEffectModels requires FixedEffects as a dependency\n",
    "using FixedEffectModels #we use FixedEffectModels to create regression models\n",
    "using CSV #we use the CSV package to load the data\n",
    "using DataFrames #we use the DataFrames package as the data is stored as an object of type \"DataFrame\"\n",
    "using Plots #we use the Plots package for generating plots\n",
    "\n",
    "data = CSV.read(\"/mnt/juliabox/Econometrics With Julia/Datasets/CASchools.csv\") #load the data into the workspace and store it in the variable \"data\"\n",
    "\n",
    "data.student_teacher_ratio = data.students ./ data.teachers #add a new column \"student_teacher_ratio\" to the data, ./ is used to broadcast the division operator between arrays (or in this case, columns)\n",
    "data.score = (data.read .+ data.math) ./ 2 #add a new column \"score\" to the data\n",
    "\n",
    "reg_mod = reg( #initialise a FixedEffectModel and define it as reg_mod\n",
    "                        data, #pass the DataFrame 'data' as the dataset to be used in reg_mod\n",
    "                        @model(score ~ student_teacher_ratio + english) #pass the regression formula consisting of the dependent variable 'score' and the exogenous variable 'student_teacher_ratio'\n",
    ")"
   ]
  },
  {
   "cell_type": "markdown",
   "metadata": {},
   "source": [
    "- The estimated coefficients result in the following regression model.\n",
    "\n",
    "\\begin{equation}\n",
    "\\widehat{TestScore} = 686.03 - 1.10 \\times STR - 0.65 \\times PctE\n",
    "\\end{equation}\n",
    "\n",
    "- Unlike in the simple regression model where the data can be represented by points in the two-dimensional coordinate system, we now have three dimensions."
   ]
  },
  {
   "cell_type": "code",
   "execution_count": null,
   "metadata": {},
   "outputs": [],
   "source": []
  }
 ],
 "metadata": {
  "kernelspec": {
   "display_name": "Julia 1.0.3 (4 threads)",
   "language": "julia",
   "name": "julia-1.0k"
  },
  "language_info": {
   "file_extension": ".jl",
   "mimetype": "application/julia",
   "name": "julia",
   "version": "1.0.3"
  }
 },
 "nbformat": 4,
 "nbformat_minor": 2
}
