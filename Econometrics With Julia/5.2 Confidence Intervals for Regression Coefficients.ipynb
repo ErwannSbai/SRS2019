{
 "cells": [
  {
   "cell_type": "markdown",
   "metadata": {},
   "source": [
    "## 5.2 Confidence Intervals for Regression Coefficients"
   ]
  },
  {
   "cell_type": "markdown",
   "metadata": {},
   "source": [
    "- As we already know, estimates of the regression coefficients $\\beta_0$ and $\\beta_1$ are subject to sampling uncertainty. \n",
    "- Therefore, we will never exactly estimate the true value of these parameters from sample data in an empirical application.\n",
    "- However, we may construct confidence intervals for the intercept and the slope parameter.\n",
    "- A 95% confidence interval for $\\beta_i$ has two equivalent definitions:\n",
    " - The interval is the set of values for which a hypothesis test to the level of 5% cannot be rejected.\n",
    " - The interval has a probability of 95% to contain the true value of $\\beta_i$, that is 95% of all samples that could be drawn, the confidence interval will cover the true value of $\\beta_i$.\n",
    " \\begin{equation}\n",
    " \\text{CI}_{0.95}^{\\beta_i} = \\left[ \\hat{\\beta}_i - 1.96 \\times SE(\\hat{\\beta}_i) \\, , \\, \\hat{\\beta}_i + 1.96 \\times SE(\\hat{\\beta}_i) \\right]\n",
    " \\end{equation}\n",
    "- Again, the regression model calculates and displays the lower and upper bound of the 95% confidence interval for each variable."
   ]
  },
  {
   "cell_type": "code",
   "execution_count": 1,
   "metadata": {},
   "outputs": [
    {
     "name": "stdout",
     "output_type": "stream",
     "text": [
      "                                 Linear Model                                 \n",
      "===============================================================================\n",
      "Number of obs:                     420   Degrees of freedom:                  2\n",
      "R2:                              0.051   R2 Adjusted:                     0.049\n",
      "F Statistic:                   22.5751   p-value:                         0.000\n",
      "===============================================================================\n",
      "                       Estimate Std.Error  t value Pr(>|t|) Lower 95% Upper 95%\n",
      "-------------------------------------------------------------------------------\n",
      "student_teacher_ratio  -2.27981  0.479826 -4.75133    0.000  -3.22298  -1.33664\n",
      "(Intercept)             698.933   9.46749  73.8245    0.000   680.323   717.543\n",
      "===============================================================================\n",
      "\n"
     ]
    }
   ],
   "source": [
    "using FixedEffects #FixedEffectModels requires FixedEffects as a dependency\n",
    "using FixedEffectModels #we use FixedEffectModels to create regression models\n",
    "using CSV #we use the CSV package to load the data\n",
    "using DataFrames #we use the DataFrames package as the data is stored as an object of type \"DataFrame\"\n",
    "using Plots #we use the Plots package for generating plots\n",
    "\n",
    "data = CSV.read(\"/mnt/juliabox/Econometrics With Julia/Datasets/CASchools.csv\") #load the data into the workspace and store it in the variable \"data\"\n",
    "\n",
    "data.student_teacher_ratio = data.students ./ data.teachers #add a new column \"student_teacher_ratio\" to the data, ./ is used to broadcast the division operator between arrays (or in this case, columns)\n",
    "data.score = (data.read .+ data.math) ./ 2 #add a new column \"score\" to the data\n",
    "\n",
    "reg_mod = reg( #initialise a FixedEffectModel and define it as reg_mod\n",
    "                        data, #pass the DataFrame 'data' as the dataset to be used in reg_mod\n",
    "                        @formula(score ~ student_teacher_ratio) #pass the regression formula consisting of the dependent variable 'score' and the exogenous variable 'student_teacher_ratio'\n",
    ")\n",
    "\n",
    "println(reg_mod)"
   ]
  },
  {
   "cell_type": "code",
   "execution_count": null,
   "metadata": {},
   "outputs": [],
   "source": []
  }
 ],
 "metadata": {
  "kernelspec": {
   "display_name": "Julia 1.0.3 (4 threads)",
   "language": "julia",
   "name": "julia-1.0k"
  },
  "language_info": {
   "file_extension": ".jl",
   "mimetype": "application/julia",
   "name": "julia",
   "version": "1.0.3"
  }
 },
 "nbformat": 4,
 "nbformat_minor": 2
}
