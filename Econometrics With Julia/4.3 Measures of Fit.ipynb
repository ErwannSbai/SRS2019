{
 "cells": [
  {
   "cell_type": "markdown",
   "metadata": {},
   "source": [
    "## 4.3 Measures of Fit"
   ]
  },
  {
   "cell_type": "markdown",
   "metadata": {},
   "source": [
    "- After fitting a linear regression model, a natural question is how well the model describes the data.\n",
    "- Both the coefficient of determination and the standard error of the regression measure how well the OLS Regression line fits the data."
   ]
  },
  {
   "cell_type": "markdown",
   "metadata": {},
   "source": [
    "### The Coefficient of Determination"
   ]
  },
  {
   "cell_type": "markdown",
   "metadata": {},
   "source": [
    "- $R^2$, the coefficient of determination, is the fraction of the sample variance of $Y_i$ that is explained by $X_i$.\n",
    "- Mathematically, the $R^2$ can be written as the ratio of the explained sum of squares to the total sum of squares.\n",
    "- The explained sum of squares (ESS) is the sum of squared deviations of the predicted values $\\hat{Y_i}$, from the average of the $Y_i$.\n",
    "- The total sum of squares (TSS) is the sum of squared deviations of the $Y_i$.\n",
    "- The sum of squared residuals (SSR) is a measure for the errors made when predicting the $Y$ by $X$.\n",
    " \n",
    "\\begin{align}\n",
    "  ESS & =  \\sum_{i = 1}^n \\left( \\hat{Y_i} - \\overline{Y} \\right)^2,   \\\\\n",
    "  TSS & =  \\sum_{i = 1}^n \\left( Y_i - \\overline{Y} \\right)^2,   \\\\\n",
    "  R^2 & = \\frac{ESS}{TSS}.\n",
    "\\end{align}\n",
    "\n",
    "- The sum of squared residuals (SSR) is a measure for the errors made when predicting the $Y$ by $X$.\n",
    "\n",
    "\\begin{align}\n",
    "  SSR & = \\sum_{i=1}^n \\hat{u}_i^2\n",
    "\\end{align}\n",
    "\n",
    "- Since $TSS = ESS + SSR$ we can also write $R^2 = 1- \\frac{SSR}{TSS}$.\n",
    "- A perfect fit, i.e., no errors made when fitting the regression line, implies $R^2 = 1$ since then we have $SSR = 0$. \n",
    "- On the contrary, if our estimated regression line does not explain any variation in the $Y_i$, we have $ESS = 0$ and consequently $R^2 = 0$."
   ]
  },
  {
   "cell_type": "markdown",
   "metadata": {},
   "source": [
    "### The Standard Error of the Regression"
   ]
  },
  {
   "cell_type": "markdown",
   "metadata": {},
   "source": [
    "- The Standard Error of the Regression (SER) is an estimator of the standard deviation of the residuals $\\hat{u}_i$. \n",
    "- As such it measures the magnitude of a typical deviation from the regression line, i.e., the magnitude of a typical residual.\n",
    "\n",
    "\\begin{align}\n",
    "SER = s_{\\hat{u}} = \\sqrt{s_{\\hat{u}}^2} \\ \\ \\ \\text{where} \\ \\ \\ s_{\\hat{u} }^2 = \\frac{1}{n-2} \\sum_{i = 1}^n \\hat{u}^2_i = \\frac{SSR}{n - 2}\n",
    "\\end{align}"
   ]
  },
  {
   "cell_type": "markdown",
   "metadata": {},
   "source": [
    "### Application to the Test Score Data"
   ]
  },
  {
   "cell_type": "markdown",
   "metadata": {},
   "source": [
    "- The coefficient of determination, $R^2$, is displayed in the regression model output, and can be accessed via the regression model object.\n",
    "- The Standard Error of the Regression/Residual Standard Error is not included in the regression, but can be easily calculated using the SSR variable that can be accessed via the regression model object."
   ]
  },
  {
   "cell_type": "code",
   "execution_count": 7,
   "metadata": {},
   "outputs": [
    {
     "name": "stdout",
     "output_type": "stream",
     "text": [
      "                                 Linear Model                                 \n",
      "===============================================================================\n",
      "Number of obs:                     420   Degrees of freedom:                  2\n",
      "R2:                              0.051   R2 Adjusted:                     0.049\n",
      "F Statistic:                   22.5751   p-value:                         0.000\n",
      "===============================================================================\n",
      "                       Estimate Std.Error  t value Pr(>|t|) Lower 95% Upper 95%\n",
      "-------------------------------------------------------------------------------\n",
      "student_teacher_ratio  -2.27981  0.479826 -4.75133    0.000  -3.22298  -1.33664\n",
      "(Intercept)             698.933   9.46749  73.8245    0.000   680.323   717.543\n",
      "===============================================================================\n",
      "\n",
      "R-Squared: 0.05124009255177231\n",
      "SER: 18.580966694033535\n"
     ]
    }
   ],
   "source": [
    "using FixedEffects #FixedEffectModels requires FixedEffects as a dependency\n",
    "using FixedEffectModels #we use FixedEffectModels to create regression models\n",
    "using CSV #we use the CSV package to load the data\n",
    "using DataFrames #we use the DataFrames package as the data is stored as an object of type \"DataFrame\"\n",
    "using Plots #we use the Plots package for generating plots\n",
    "\n",
    "data = CSV.read(\"/mnt/juliabox/Econometrics With Julia/Datasets/CASchools.csv\") #load the data into the workspace and store it in the variable \"data\"\n",
    "\n",
    "data.student_teacher_ratio = data.students ./ data.teachers #add a new column \"student_teacher_ratio\" to the data, ./ is used to broadcast the division operator between arrays (or in this case, columns)\n",
    "data.score = (data.read .+ data.math) ./ 2 #add a new column \"score\" to the data\n",
    "\n",
    "reg_mod = reg( #initialise a FixedEffectModel and define it as reg_mod\n",
    "                        data, #pass the DataFrame 'data' as the dataset to be used in reg_mod\n",
    "                        @formula(score ~ student_teacher_ratio) #pass the regression formula consisting of the dependent variable 'score' and the exogenous variable 'student_teacher_ratio'\n",
    ")\n",
    "\n",
    "println(reg_mod)\n",
    "\n",
    "println(\"R-Squared: \" * string(reg_mod.r2))\n",
    "println(\"SER: \" * string(sqrt(reg_mod.rss / (reg_mod.nobs - 2)))) #rss is ssr and nobs is the number of observations"
   ]
  }
 ],
 "metadata": {
  "kernelspec": {
   "display_name": "Julia 1.0.3 (4 threads)",
   "language": "julia",
   "name": "julia-1.0k"
  },
  "language_info": {
   "file_extension": ".jl",
   "mimetype": "application/julia",
   "name": "julia",
   "version": "1.0.3"
  }
 },
 "nbformat": 4,
 "nbformat_minor": 2
}
