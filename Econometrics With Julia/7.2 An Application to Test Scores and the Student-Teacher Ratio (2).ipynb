{
 "cells": [
  {
   "cell_type": "markdown",
   "metadata": {},
   "source": [
    "## 7.2 An Application to Test Scores and the Student-Teacher Ratio"
   ]
  },
  {
   "cell_type": "markdown",
   "metadata": {},
   "source": [
    "- Computing confidence intervals for individual coefficients in the multiple regression model proceeds as in the simple regression model\n",
    "- FixedEffectModels calculates and displays the confidence intervals for each coefficient in the multiple regression model"
   ]
  },
  {
   "cell_type": "code",
   "execution_count": 1,
   "metadata": {},
   "outputs": [
    {
     "name": "stdout",
     "output_type": "stream",
     "text": [
      "================================================================================\n"
     ]
    },
    {
     "data": {
      "text/plain": [
       "                                  Linear Model                                  \n",
       "================================================================================\n",
       "Number of obs:                      420  Degrees of freedom:                   3\n",
       "R2:                               0.426  R2 Adjusted:                      0.424\n",
       "F Statistic:                    8.69304  p-value:                          0.000\n",
       "                        Estimate Std.Error  t value Pr(>|t|) Lower 95% Upper 95%\n",
       "student_teacher_ratio    -1.1013  0.380278 -2.89603    0.004   -1.8488 -0.353794\n",
       "english                -0.649777 0.0393425 -16.5159    0.000 -0.727111 -0.572442\n",
       "(Intercept)              686.032   7.41131  92.5656    0.000   671.464     700.6\n"
      ]
     },
     "execution_count": 1,
     "metadata": {},
     "output_type": "execute_result"
    },
    {
     "name": "stdout",
     "output_type": "stream",
     "text": [
      "--------------------------------------------------------------------------------\n",
      "================================================================================\n"
     ]
    }
   ],
   "source": [
    "using FixedEffects #FixedEffectModels requires FixedEffects as a dependency\n",
    "using FixedEffectModels #we use FixedEffectModels to create regression models\n",
    "using CSV #we use the CSV package to load the data\n",
    "using DataFrames #we use the DataFrames package as the data is stored as an object of type \"DataFrame\"\n",
    "using Plots #we use the Plots package for generating plots\n",
    "\n",
    "data = CSV.read(\"/mnt/juliabox/Econometrics With Julia/Datasets/CASchools.csv\") #load the data into the workspace and store it in the variable \"data\"\n",
    "\n",
    "data.student_teacher_ratio = data.students ./ data.teachers #add a new column \"student_teacher_ratio\" to the data, ./ is used to broadcast the division operator between arrays (or in this case, columns)\n",
    "data.score = (data.read .+ data.math) ./ 2 #add a new column \"score\" to the data\n",
    "\n",
    "reg_mod = reg( #initialise a FixedEffectModel and define it as reg_mod\n",
    "                        data, #pass the DataFrame 'data' as the dataset to be used in reg_mod\n",
    "                        @model(score ~ student_teacher_ratio + english) #pass the regression formula consisting of the dependent variable 'score' and the exogenous variable 'student_teacher_ratio'\n",
    ")"
   ]
  },
  {
   "cell_type": "code",
   "execution_count": null,
   "metadata": {},
   "outputs": [],
   "source": []
  }
 ],
 "metadata": {
  "kernelspec": {
   "display_name": "Julia 1.0.3 (4 threads)",
   "language": "julia",
   "name": "julia-1.0k"
  },
  "language_info": {
   "file_extension": ".jl",
   "mimetype": "application/julia",
   "name": "julia",
   "version": "1.0.3"
  }
 },
 "nbformat": 4,
 "nbformat_minor": 2
}
