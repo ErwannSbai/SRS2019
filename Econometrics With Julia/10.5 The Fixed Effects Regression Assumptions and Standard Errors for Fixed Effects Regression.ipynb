{
 "cells": [
  {
   "cell_type": "markdown",
   "metadata": {},
   "source": [
    "## 10.5 The Fixed Effects Regression Assumptions and Standard Errors for Fixed Effects Regression"
   ]
  },
  {
   "cell_type": "markdown",
   "metadata": {},
   "source": [
    "- In the fixed effects model $Y_{it} = \\beta_1 X_{it} + \\alpha_i + u_{it} \\ \\ , \\ \\ i=1,\\dots,n, \\ t=1,\\dots,T,$ we assume the following:\n",
    " 1. The error term $u_{it}$ has conditional mean zero, that is, $E(u_{it}|X_{i1}, X_{i2},\\dots, X_{iT})$.\n",
    " 2. $(X_{i1}, X_{i2}, \\dots, X_{i3}, u_{i1}, \\dots, u_{iT}), i=1,\\dots,n$ are i.i.d. draws from their joint distribution.\n",
    " 3. Large outliers are unlikely, i.e., $(X_{it}, u_{it})$ have nonzero finite fourth moments.\n",
    " 4. There is no perfect multicollinearity."
   ]
  },
  {
   "cell_type": "markdown",
   "metadata": {},
   "source": [
    "### Standard Errors for Fixed Effects Regression"
   ]
  },
  {
   "cell_type": "markdown",
   "metadata": {},
   "source": [
    "- Similar as for heteroskedasticity, autocorrelation invalidates the usual standard error formulas as well as heteroskedasticity-robust standard errors since these are derived under the assumption that there is no autocorrelation. \n",
    "- When there is both heteroskedasticity and autocorrelation so-called heteroskedasticity and autocorrelation-consistent (HAC) standard errors need to be used. \n",
    "- Clustered standard errors belong to these type of standard errors. \n",
    "- They allow for heteroskedasticity and autocorrelated errors within an entity but not correlation across entities.\n",
    "- We can set our models to have clustered standard errors by adding a Vcov.cluster(:\"insert_entity_variable\") argument."
   ]
  },
  {
   "cell_type": "code",
   "execution_count": null,
   "metadata": {},
   "outputs": [],
   "source": [
    "using CSV\n",
    "using DataFrames\n",
    "using Query\n",
    "using Plots\n",
    "using FixedEffects\n",
    "using FixedEffectModels\n",
    "using CategoricalArrays\n",
    "using LinearAlgebra\n",
    "\n",
    "fatalities = CSV.read(\"/mnt/juliabox/Econometrics With Julia/Datasets/fatalities.csv\")\n",
    "\n",
    "fatalities.fatality_rate = fatalities.fatal ./ fatalities.pop * 10000\n",
    "fatalities.state = categorical(fatalities.state)\n",
    "\n",
    "fatalities_model = reg(\n",
    "                        fatalities,\n",
    "                        @formula(fatality_rate ~ beertax + fe(state) + fe(year)),\n",
    "                        Vcov.cluster(:state)\n",
    ")\n",
    "\n",
    "println(fatalities_model)"
   ]
  },
  {
   "cell_type": "code",
   "execution_count": null,
   "metadata": {},
   "outputs": [],
   "source": []
  }
 ],
 "metadata": {
  "kernelspec": {
   "display_name": "Julia 1.0.3 (4 threads)",
   "language": "julia",
   "name": "julia-1.0k"
  },
  "language_info": {
   "file_extension": ".jl",
   "mimetype": "application/julia",
   "name": "julia",
   "version": "1.0.3"
  }
 },
 "nbformat": 4,
 "nbformat_minor": 2
}
