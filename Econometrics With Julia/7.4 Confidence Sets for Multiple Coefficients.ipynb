{
 "cells": [
  {
   "cell_type": "markdown",
   "metadata": {},
   "source": [
    "## 7.4 Confidence Sets for Multiple Coefficients"
   ]
  },
  {
   "cell_type": "markdown",
   "metadata": {},
   "source": [
    "- Based on the F-statistic that we have previously encountered, we can specify confidence sets. \n",
    "- Confidence sets are analogous to confidence intervals for single coefficients. \n",
    "- As such, confidence sets consist of combinations of coefficients that contain the true combination of coefficients in, say, 95% of all cases if we could repeatedly draw random samples, just like in the univariate case. \n",
    "- Put differently, a confidence set is the set of all coefficient combinations for which we cannot reject the corresponding joint null hypothesis tested using an F-test.\n",
    "- The confidence set for two coefficients an ellipse which is centered around the point defined by both coefficient estimates."
   ]
  },
  {
   "cell_type": "code",
   "execution_count": null,
   "metadata": {},
   "outputs": [],
   "source": []
  }
 ],
 "metadata": {
  "kernelspec": {
   "display_name": "Julia 1.0.3 (4 threads)",
   "language": "julia",
   "name": "julia-1.0k"
  },
  "language_info": {
   "file_extension": ".jl",
   "mimetype": "application/julia",
   "name": "julia",
   "version": "1.0.3"
  }
 },
 "nbformat": 4,
 "nbformat_minor": 2
}
