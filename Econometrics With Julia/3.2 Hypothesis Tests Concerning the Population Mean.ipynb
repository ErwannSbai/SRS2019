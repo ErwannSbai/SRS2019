{
 "cells": [
  {
   "cell_type": "markdown",
   "metadata": {},
   "source": [
    "## 3.2 Hypothesis Tests Concerning the Population Mean"
   ]
  },
  {
   "cell_type": "markdown",
   "metadata": {},
   "source": [
    "### About Hypotheses and Hypothesis Testing"
   ]
  },
  {
   "cell_type": "markdown",
   "metadata": {},
   "source": [
    "- Hypothesis testing uses data to compare the null hypothesis, the hypothesis to be tested, to the alternative hypothesis, which holds if the null does not.\n",
    "- The null hypothesis $H_0$ that the population mean $E(Y)$ takes on a specific value $\\mu_{Y, 0}$ is $H_0: E(Y) = \\mu_{Y, 0}$.\n",
    "- The most general alternative hypothesis is the two-sided alternative hypothesis, which allows $E(Y)$ to be either less than or greater than $\\mu_{Y, 0}$: $H_1: E(Y) \\neq \\mu_{Y, 0}$.\n",
    "- In hypothesis testing, we use the evidence in a randomly selected sample of data to decide whether or not we should reject the null hypothesis in favour of the alternative hypothesis.\n",
    "\n",
    "\n",
    "- The p-value, also called the significance probability, is the probability of drawing a statistic at least as adverse to the null hypothesis as the one you actually computed in your sample, assuming the null hypothesis is correct.\n",
    "- Mathematically:\n",
    "\\begin{equation}\n",
    "p \\text{-value} = P_{H_0}\\left[ \\lvert \\overline{Y} - \\mu_{Y,0} \\rvert > \\lvert \\overline{Y}^{actual} - \\mu_{Y,0} \\rvert \\right]\n",
    "\\end{equation}\n",
    "- That is, the p-value is the area in the tails of the distribution of $\\overline{Y}$ under the null hypothesis beyond $\\lvert \\overline{Y}^{actual} - \\mu_{Y,0} \\rvert$\n",
    "- If the p-value is small, say 0.5%, then it is very unlikely that the statistic we actually computed in our sample would have been drawn if the null hypothesis were true, meaning that the null hypothesis is false.\n",
    "- If the p-value is large, say 40%, then it is likely that the observed statistic could have arisen by random sampling variation if the null hypothesis is true, making it reasonable to not reject the null hypothesis.\n",
    "- If the p-value is large, then the observed value $\\overline{Y}^{actual}$ is consistent with the null hypothesis, but if the p-value is small, it is not.\n",
    "\n",
    "\n",
    "- According to the central limit theorem, when the sample size is large the sampling distribution of $\\overline{Y}$ is well approximated by a normal distribution.\n",
    "- Under the null hypothesis, the mean of this normal distribution is $\\mu_{Y, 0}$, so under the null hypothesis $\\overline{Y}$ is distributed $N(\\mu_{Y, 0}, \\sigma^2_\\overline{Y})$ (where $\\sigma^2_\\overline{Y} = \\sigma^2_Y/n$).\n",
    "- Thus, under the null hypothesis, the standardised version of $\\overline{Y}$, $(\\overline{Y} - \\mu_{Y,0}) / \\sigma_\\overline{Y}$, has a standard normal distribution.\n",
    "- That is, the p-value is the area in the tails of a standard normal distribution outside:\n",
    "\\begin{equation}\n",
    "\\pm \\left\\lvert \\frac{\\overline{Y}^{actual} - \\mu_{Y,0}}{\\sigma_{\\overline{Y}}} \\right\\rvert\n",
    "\\end{equation}\n",
    "- Thus, for a large n, the p-value is:\n",
    "\\begin{align}\n",
    "p \\text{-value} =& \\, P_{H_0}\\left[ \\left\\lvert \\frac{\\overline{Y} - \\mu_{Y,0}}{\\sigma_{\\overline{Y}}} \\right\\rvert > \\left\\lvert \\frac{\\overline{Y}^{actual} - \\mu_{Y,0}}{\\sigma_{\\overline{Y}}} \\right\\rvert \\right] \\\\\n",
    "=& \\, 2 \\cdot \\Phi \\left[ - \\left\\lvert \\frac{\\overline{Y}^{actual} - \\mu_{Y,0}}{\\sigma_{\\overline{Y}}}  \\right\\rvert\\right].  \n",
    "\\end{align}\n",
    "\n",
    "\n",
    "- Because $\\sigma_\\overline{Y}^2 = \\sigma_Y^2 / n$, $\\sigma_\\overline{Y}$ depends on the variance of the population distribution $\\sigma^2$.\n",
    "- However, in practice, this variance is typically unknown and must be estimated before the p-value can be computed.\n",
    "- The sample variance $s^2_Y$ and sample standard deviation $s_Y$ are estimators of the population variance $\\sigma^2_Y$ and population standard deviation $\\sigma_Y$.\n",
    "\n",
    "\\begin{equation}\n",
    "s_Y^2 = \\frac{1}{n-1} \\sum_{i=1}^n (Y_i - \\overline{Y})^2\n",
    "\\end{equation}\n",
    "\n",
    "- The use of an estimator $\\overline{Y}$ introduces a small downward bias, which is corrected by dividing by the $n - 1$ degrees of freedom.\n",
    "- The sample variance is a consistent estimator of the population variance, that is, the sample variance is close to the population variance with high probability when n is large.\n",
    "\n",
    "\n",
    "- Because the standard deviation of the sampling distribution of $\\overline{Y}$ is $\\sigma_\\overline{Y} = \\sigma_Y / \\sqrt{n}$, we use $s_Y / \\sqrt{n}$ as an estimator of $\\sigma_\\overline{Y}$.\n",
    "- The estimator of the standard deviation of $\\overline{Y}$, $\\sigma_\\overline{Y}$, is called the standard error of $\\overline{Y}$:\n",
    "\n",
    "\\begin{equation}\n",
    "SE(\\overline{Y}) = \\hat\\sigma_{\\overline{Y}} = \\frac{s_Y}{\\sqrt{n}}\n",
    "\\end{equation}\n",
    "- Because $s^2_Y$ is a consistent estimator of $\\sigma^2_Y$, when $\\sigma_Y$ is unknown, the p-value can be computed using the standard error $SE(\\overline{Y}) = \\hat\\sigma_{\\overline{Y}}$:\n",
    "\\begin{equation}\n",
    "p\\text{-value} = 2\\cdot\\Phi\\left(-\\left\\lvert \\frac{\\overline{Y}^{actual}-\\mu_{Y,0}}{SE(\\overline{Y})} \\right\\rvert \\right)\n",
    "\\end{equation}\n",
    "\n",
    "\n",
    "- A test statistic is a statistic used to perform a hypothesis test; the standardised sample average $(\\overline{Y}-\\mu_{Y,0}) / SE(\\overline{Y})$ is an important test statistic called the t-statistic or t-ratio:\n",
    "\\begin{equation}\n",
    "t = \\frac{\\overline{Y} - \\mu_{Y,0}}{SE(\\overline{Y})}\n",
    "\\end{equation}\n",
    "- When n is large, $s^2_Y$ is close to $\\sigma^2_Y$ with high probability.\n",
    "- Thus, the distribution of the t-statistic is approximately the same as the distribution of $(\\overline{Y}-\\mu_{Y,0}) / \\sigma_\\overline{Y}$, which in turn is well approximated by the standard normal distribution when n is large because of the central limit theorem.\n",
    "- Accordingly, under the null hypothesis, t is approximately distributed $N(0, 1)$ for large n.\n",
    "- The p-value could then calculated in terms of the t-statistic:\n",
    "\\begin{equation}\n",
    "p\\text{-value} = 2\\cdot\\Phi( - \\lvert t_{actual} \\rvert)\n",
    "\\end{equation}\n",
    "\n",
    "\n",
    "- As a hypothetical example, suppose that a sample of $n = 200$ recent college graduates is used to test the null hypothesis that the mean wage, $E(Y)$, is 20 dollars per hour.\n",
    "- The sample average wage $\\overline{Y}^actual$ is 22.64 dollars per hour and the sample standard deviation is $s_Y = 18.14$.\n",
    "- Then the standard error of $\\overline{Y}$ is $s_Y / \\sqrt{n} = 18.14 / \\sqrt{200} = 1.28$.\n",
    "- The value of the t-statistic is $t^{actual} = (22.64 - 20) / 1.28 = 2.06$.\n",
    "- According to the table of the cumulative standard normal distribution function, the p-value is $2\\cdot\\Phi(-2.06) = 0.039$, or 3.9%.\n",
    "- That is, assuming the null hypothesis to be true, the probability of obtaining a sample average at least as different from the null as the one actually computed is 3.9%\n",
    "\n",
    "\n",
    "- In many cases, statisticians and econometricians use a 5% significance level, that is, the null hypothesis is rejected if the p-value is less than 5%.\n",
    "- Because the area under the tails of the normal distribution outside $\\pm 1.96$ is 5%, the null hypothesis is rejected if $\\lvert t^{actual} \\rvert > 1.96$.\n",
    "- This also means that the probability of erroneously rejecting the hypothesis (rejecting when true) is 5%.\n",
    "- The significance level of this test is 5%, the critical value of this two-sided test is 1.96, and the rejection region is the values of the t-statistic outside $\\pm 1.96$.\n",
    "- If the test rejects at the 5% significance level, the population mean $\\mu_Y$ is said to be statistically significantly different from $\\mu_{Y, 0}$ at the 5% significance level."
   ]
  },
  {
   "cell_type": "code",
   "execution_count": null,
   "metadata": {},
   "outputs": [],
   "source": []
  }
 ],
 "metadata": {
  "kernelspec": {
   "display_name": "Julia 1.0.3",
   "language": "julia",
   "name": "julia-1.0"
  },
  "language_info": {
   "file_extension": ".jl",
   "mimetype": "application/julia",
   "name": "julia",
   "version": "1.0.3"
  }
 },
 "nbformat": 4,
 "nbformat_minor": 2
}
