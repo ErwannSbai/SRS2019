{
 "cells": [
  {
   "cell_type": "markdown",
   "metadata": {},
   "source": [
    "## 10.2 Panel Data with Two Time Periods: \"Before and After\" Comparisons"
   ]
  },
  {
   "cell_type": "markdown",
   "metadata": {},
   "source": [
    "- Suppose there are only T = 2 time periods t = 1982, 1988. \n",
    "- This allows us to analyze differences in changes of the the fatality rate from year 1982 to 1988. \n",
    "- We start by considering the population regression model, where the $Z_i$ are state specific characteristics that differ between states but are constant over time. \n",
    "\\begin{equation}\n",
    "FatalityRate_{it} = \\beta_0 + \\beta_1 BeerTax_{it} + \\beta_2 Z_{i} + u_{it}\n",
    "\\end{equation}\n",
    "\n",
    "- For t = 1982 and t = 1988 we have\n",
    "\n",
    "\\begin{align*}\n",
    "  FatalityRate_{i1982} =&\\, \\beta_0 + \\beta_1 BeerTax_{i1982} + \\beta_2 Z_i + u_{i1982}, \\\\\n",
    "  FatalityRate_{i1988} =&\\, \\beta_0 + \\beta_1 BeerTax_{i1988} + \\beta_2 Z_i + u_{i1988}.\n",
    "\\end{align*}\n",
    "\n",
    "- We can eliminate the $Z_i$ by regressing the difference in the fatality rate between 1988 and 1982 on the difference in beer tax between those years:\n",
    "\n",
    "\\begin{equation}\n",
    "FatalityRate_{i1988} - FatalityRate_{i1982} = \\beta_1 (BeerTax_{i1988} - BeerTax_{i1982}) + u_{i1988} - u_{i1982}\n",
    "\\end{equation}\n",
    "\n",
    "- This regression model yields an estimate for $β_1$ that is robust against state specific bias due to omission of the $Z_i$.\n",
    "- Next we use Julia to estimate a regression based on the differenced data and plot the estimated regression function."
   ]
  },
  {
   "cell_type": "code",
   "execution_count": 1,
   "metadata": {},
   "outputs": [
    {
     "ename": "Base.IOError",
     "evalue": "IOError: stat: invalid argument (EINVAL)",
     "output_type": "error",
     "traceback": [
      "IOError: stat: invalid argument (EINVAL)",
      "",
      "Stacktrace:",
      " [1] stat(::String) at ./stat.jl:68",
      " [2] isfile at ./stat.jl:303 [inlined]",
      " [3] #File#1(::Int64, ::Bool, ::Int64, ::Nothing, ::Int64, ::Nothing, ::Bool, ::Nothing, ::Bool, ::Array{String,1}, ::String, ::String, ::Bool, ::Char, ::Nothing, ::Nothing, ::Char, ::Nothing, ::Nothing, ::Nothing, ::Nothing, ::Nothing, ::Dict{Type,Type}, ::Symbol, ::Bool, ::Bool, ::Bool, ::Bool, ::Base.Iterators.Pairs{Union{},Union{},Tuple{},NamedTuple{(),Tuple{}}}, ::Type, ::String) at /home/jrun/.julia/packages/CSV/eWuJV/src/CSV.jl:135",
      " [4] Type at /home/jrun/.julia/packages/CSV/eWuJV/src/CSV.jl:135 [inlined]",
      " [5] #read#105(::Bool, ::Dict{Int64,Function}, ::Base.Iterators.Pairs{Union{},Union{},Tuple{},NamedTuple{(),Tuple{}}}, ::Function, ::String, ::Type) at /home/jrun/.julia/packages/CSV/eWuJV/src/CSV.jl:310",
      " [6] read at /home/jrun/.julia/packages/CSV/eWuJV/src/CSV.jl:300 [inlined] (repeats 2 times)",
      " [7] top-level scope at In[1]:9"
     ]
    }
   ],
   "source": [
    "using CSV\n",
    "using DataFrames\n",
    "using Query\n",
    "using Plots\n",
    "using FixedEffects \n",
    "using FixedEffectModels\n",
    "using Statistics\n",
    "using LinearAlgebra\n",
    "\n",
    "fatalities = CSV.read(\"C:\\\\Users\\\\jpche\\\\AppData\\\\Local\\\\JuliaPro-1.2.0-1\\\\fatalities.csv\")\n",
    "\n",
    "fatalities.fatality_rate = fatalities.fatal ./ fatalities.pop * 10000\n",
    "\n",
    "fatalities1982 = @from i in fatalities begin\n",
    "    @where i.year == 1982\n",
    "    @select i\n",
    "    @collect DataFrame\n",
    "end\n",
    "\n",
    "fatalities1988 = @from i in fatalities begin\n",
    "    @where i.year == 1988\n",
    "    @select i\n",
    "    @collect DataFrame\n",
    "end\n",
    "\n",
    "diff_fatalities = DataFrame(\n",
    "                    fatality_rate = fatalities1988.fatality_rate - fatalities1982.fatality_rate,\n",
    "                    beertax = fatalities1988.beertax - fatalities1982.beertax\n",
    ")\n",
    "\n",
    "diff_fatalities_model = reg(\n",
    "                        diff_fatalities,\n",
    "                        @model(fatality_rate ~ beertax)                 \n",
    ")\n",
    "\n",
    "println(diff_fatalities_model)\n",
    "\n",
    "x = diff_fatalities.beertax\n",
    "y = diff_fatalities.fatality_rate\n",
    "\n",
    "p1 = plot( #assign a plot object to the variable p1 using the following attributes\n",
    "    x, #x series\n",
    "    y, #y series\n",
    "    st = :scatter, #series type\n",
    "    title = \"Changes in Traffic Fatality Rates and Beer Taxes in 1982-1988\", #plot title\n",
    "    label = \"Observation\", #legend labels\n",
    "    xlabel = \"Change in beer tax (in 1988 dollars)\", #x axis label\n",
    "    ylabel = \"Change in fatality rate (fatalities per 10000)\", #y axis label\n",
    "    ylims = (-1.5, 1), #y axis limits\n",
    "    yticks = -1.5:0.5:1, #y axis tick range\n",
    "    ms = 4, #marker size\n",
    "    mc = :blue #marker color\n",
    ")\n",
    "\n",
    "y_prediction_diff(x) = dot(coef(diff_fatalities_model), [1, x])\n",
    "\n",
    "x = [minimum(diff_fatalities.beertax), maximum(diff_fatalities.beertax)]\n",
    "y = y_prediction_diff.(x)\n",
    "\n",
    "plot!(\n",
    "    p1,\n",
    "    x,\n",
    "    y,\n",
    "    st = :line,\n",
    "    label = \"OLS Difference\"\n",
    ")\n",
    "\n",
    "display(p1)\n",
    "\n",
    "println(\"Mean fatality rate over all states for all time : \" * string(mean(fatalities.fatality_rate)))"
   ]
  },
  {
   "cell_type": "markdown",
   "metadata": {},
   "source": [
    "- We obtain the OLS estimated regression function\n",
    "\n",
    "\\begin{equation}\n",
    "\\widehat{FatalityRate_{i1988} - FatalityRate_{i1982}} = -\\underset{(0.065)}{0.072} -\\underset{(0.36)}{1.04} \\times (BeerTax_{i1988}-BeerTax_{i1982}).\n",
    "\\end{equation}"
   ]
  },
  {
   "cell_type": "code",
   "execution_count": null,
   "metadata": {},
   "outputs": [],
   "source": []
  }
 ],
 "metadata": {
  "kernelspec": {
   "display_name": "Julia 1.0.3 (4 threads)",
   "language": "julia",
   "name": "julia-1.0k"
  },
  "language_info": {
   "file_extension": ".jl",
   "mimetype": "application/julia",
   "name": "julia",
   "version": "1.0.3"
  }
 },
 "nbformat": 4,
 "nbformat_minor": 2
}
