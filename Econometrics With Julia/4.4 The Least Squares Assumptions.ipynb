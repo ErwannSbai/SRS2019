{
 "cells": [
  {
   "cell_type": "markdown",
   "metadata": {},
   "source": [
    "## 4.4 The Least Squares Assumptions"
   ]
  },
  {
   "cell_type": "markdown",
   "metadata": {},
   "source": [
    "- OLS performs well under a quite broad variety of different circumstances. \n",
    "- However, there are some assumptions which need to be satisfied in order to ensure that the estimates are normally distributed in large samples"
   ]
  },
  {
   "cell_type": "markdown",
   "metadata": {},
   "source": [
    "### The Least Squares Assumptions"
   ]
  },
  {
   "cell_type": "markdown",
   "metadata": {},
   "source": [
    "Given that: \n",
    "\\begin{equation}\n",
    "Y_i = \\beta_0 + \\beta_1 X_i + u_i \\text{, } i = 1,\\dots,n\n",
    "\\end{equation}"
   ]
  },
  {
   "cell_type": "markdown",
   "metadata": {},
   "source": [
    "### 1. The error term $u_i$ has conditional mean zero given $X_i$: $E(u_i|X_i) = 0$"
   ]
  },
  {
   "cell_type": "markdown",
   "metadata": {},
   "source": [
    "- This means that no matter which value we choose for $X$, the error term $u$ must not show any systematic pattern and must have a mean of 0.\n",
    "- Consider the case that, unconditionally, $E(u) = 0$, but for low and high values of $X$, the error term tends to be positive and for midrange values of $X$ the error tends to be negative.\n",
    "<img src=\"https://www.econometrics-with-r.org/ITER_files/figure-html/unnamed-chunk-161-1.png\" width=\"80%\"/>\n",
    "- Using the quadratic model (represented by the black curve) we see that there are no systematic deviations of the observation from the predicted relation, so it is credible that the assumption is not violated when such a model is employed.\n",
    "- However, using a simple linear regression model we see that the assumption is probably violated as $E(u_i|X_i)$ varies with the $X_i$."
   ]
  },
  {
   "cell_type": "markdown",
   "metadata": {},
   "source": [
    "### 2. $(X_i,Y_i), i = 1,\\dots,n$  are independent and identically distributed (i.i.d.) draws from their joint distribution"
   ]
  },
  {
   "cell_type": "markdown",
   "metadata": {},
   "source": [
    "- Most sampling schemes used when collecting data from populations produce i.i.d.-samples. \n",
    "- For example, we could use R’s random number generator to randomly select student IDs from a university’s enrollment list and record age $X$ and earnings $Y$ of the corresponding students. \n",
    "- This is a typical example of simple random sampling and ensures that all the $(X_i, Y_i)$ are drawn randomly from the same population.\n",
    "- A prominent example where the i.i.d. assumption is not fulfilled is time series data where we have observations on the same unit over time. \n",
    "- For example, take $X$ as the number of workers in a production company over time. \n",
    "- Due to business transformations, the company cuts jobs periodically by a specific share but there are also some non-deterministic influences that relate to economics, politics etc.\n",
    "- It is evident that the observations on the number of employees cannot be independent in this example: the level of today’s employment is correlated with tomorrows employment level. \n",
    "- Thus, the i.i.d. assumption is violated."
   ]
  },
  {
   "cell_type": "markdown",
   "metadata": {},
   "source": [
    "### 3. Large outliers are unlikely: $X_i$ and $Y_i$ have nonzero finite fourth moments (finite kurtosis)"
   ]
  },
  {
   "cell_type": "markdown",
   "metadata": {},
   "source": [
    "- Common cases where we want to exclude or (if possible) correct such outliers is when they are apparently typos, conversion errors or measurement errors. \n",
    "- Even if it seems like extreme observations have been recorded correctly, it is advisable to exclude them before estimating a model since OLS suffers from sensitivity to outliers. \n",
    "- Extreme observations receive heavy weighting in the estimation of the unknown regression coefficients when using OLS.\n",
    "- Therefore, outliers can lead to strongly distorted estimates of regression coefficients. \n",
    "<img src=\"https://www.econometrics-with-r.org/ITER_files/figure-html/unnamed-chunk-163-1.png\" width=\"80%\"/>\n"
   ]
  },
  {
   "cell_type": "code",
   "execution_count": null,
   "metadata": {},
   "outputs": [],
   "source": []
  }
 ],
 "metadata": {
  "kernelspec": {
   "display_name": "Julia 1.0.3 (4 threads)",
   "language": "julia",
   "name": "julia-1.0k"
  },
  "language_info": {
   "file_extension": ".jl",
   "mimetype": "application/julia",
   "name": "julia",
   "version": "1.0.3"
  }
 },
 "nbformat": 4,
 "nbformat_minor": 2
}
