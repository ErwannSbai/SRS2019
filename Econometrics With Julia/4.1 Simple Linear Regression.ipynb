{
 "cells": [
  {
   "cell_type": "markdown",
   "metadata": {},
   "source": [
    "## 4.1 Simple Linear Regression"
   ]
  },
  {
   "cell_type": "markdown",
   "metadata": {},
   "source": [
    "### Terminology for the Linear Regression Model with a Single Regressor"
   ]
  },
  {
   "cell_type": "markdown",
   "metadata": {},
   "source": [
    "- The linear regression model is $Y_i = \\beta_0 + \\beta_1 X_i + u_i$ where\n",
    "  - The index $i$ runs over the observations, $i=1,…,n$\n",
    "  - $Y_i$ is the dependent variable, the regressand, or simply the left-hand variable\n",
    "  - $X_i$ is the independent variable, the regressor, or simply the right-hand variable\n",
    "  - $Y = \\beta_0 + \\beta_1 X$ is the population regression line also called the population regression function\n",
    "  - $β_0$ is the intercept of the population regression line\n",
    "  - $β_1$ is the slope of the population regression line\n",
    "  - $u_i$ is the error term."
   ]
  }
 ],
 "metadata": {
  "kernelspec": {
   "display_name": "Julia 1.0.3 (4 threads)",
   "language": "julia",
   "name": "julia-1.0k"
  },
  "language_info": {
   "file_extension": ".jl",
   "mimetype": "application/julia",
   "name": "julia",
   "version": "1.0.3"
  }
 },
 "nbformat": 4,
 "nbformat_minor": 1
}
