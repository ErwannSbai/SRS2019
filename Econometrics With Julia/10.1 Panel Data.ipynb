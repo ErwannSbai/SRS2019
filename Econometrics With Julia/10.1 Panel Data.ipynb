{
 "cells": [
  {
   "cell_type": "markdown",
   "metadata": {},
   "source": [
    "## 10.1 Panel Data"
   ]
  },
  {
   "cell_type": "markdown",
   "metadata": {},
   "source": [
    "- In contrast to cross-section data where we have observations on n subjects (entities), panel data has observations on n entities at T ≥ 2 time periods.\n",
    "- Where the index i refers to the entity while t refers to the time period, this is denoted\n",
    "\n",
    "\\begin{equation}\n",
    "(X_{it},Y_{it}), \\ i=1,\\dots,n \\ \\ \\ \\text{and} \\ \\ \\ t=1,\\dots,T\n",
    "\\end{equation}\n",
    "\n",
    "- Sometimes panel data is also called longitudinal data as it adds a temporal dimension to cross-sectional data. \n",
    "- Let us have a look at the dataset Fatalities by checking its structure and listing the first few observations."
   ]
  },
  {
   "cell_type": "code",
   "execution_count": 3,
   "metadata": {},
   "outputs": [
    {
     "data": {
      "text/html": [
       "<table class=\"data-frame\"><thead><tr><th></th><th>Column1</th><th>state</th><th>year</th><th>spirits</th><th>unemp</th><th>income</th><th>emppop</th><th>beertax</th><th>baptist</th><th>mormon</th><th>drinkage</th><th>dry</th><th>youngdrivers</th><th>miles</th><th>breath</th><th>jail</th><th>service</th><th>fatal</th><th>nfatal</th><th>sfatal</th><th>fatal1517</th><th>nfatal1517</th><th>fatal1820</th><th>nfatal1820</th><th>fatal2124</th><th>nfatal2124</th><th>afatal</th><th>pop</th><th>pop1517</th><th>pop1820</th><th>pop2124</th><th>milestot</th><th>unempus</th><th>emppopus</th><th>gsp</th></tr><tr><th></th><th>Int64⍰</th><th>String⍰</th><th>Int64⍰</th><th>Float64⍰</th><th>Float64⍰</th><th>Float64⍰</th><th>Float64⍰</th><th>Float64⍰</th><th>Float64⍰</th><th>Float64⍰</th><th>Float64⍰</th><th>Float64⍰</th><th>Float64⍰</th><th>Float64⍰</th><th>String⍰</th><th>String⍰</th><th>String⍰</th><th>Int64⍰</th><th>Int64⍰</th><th>Int64⍰</th><th>Int64⍰</th><th>Int64⍰</th><th>Int64⍰</th><th>Int64⍰</th><th>Int64⍰</th><th>Int64⍰</th><th>Float64⍰</th><th>Float64⍰</th><th>Float64⍰</th><th>Float64⍰</th><th>Float64⍰</th><th>Float64⍰</th><th>Float64⍰</th><th>Float64⍰</th><th>Float64⍰</th></tr></thead><tbody><p>336 rows × 35 columns</p><tr><th>1</th><td>1</td><td>al</td><td>1982</td><td>1.37</td><td>14.4</td><td>10544.2</td><td>50.692</td><td>1.53938</td><td>30.3557</td><td>0.32829</td><td>19.0</td><td>25.0063</td><td>0.211572</td><td>7233.89</td><td>no</td><td>no</td><td>no</td><td>839</td><td>146</td><td>99</td><td>53</td><td>9</td><td>99</td><td>34</td><td>120</td><td>32</td><td>309.438</td><td>3.942e6</td><td>2.09e5</td><td>2.21553e5</td><td>2.9e5</td><td>28516.0</td><td>9.7</td><td>57.8</td><td>-0.0221248</td></tr><tr><th>2</th><td>2</td><td>al</td><td>1983</td><td>1.36</td><td>13.7</td><td>10732.8</td><td>52.147</td><td>1.78899</td><td>30.3336</td><td>0.34341</td><td>19.0</td><td>22.9942</td><td>0.210768</td><td>7836.35</td><td>no</td><td>no</td><td>no</td><td>930</td><td>154</td><td>98</td><td>71</td><td>8</td><td>108</td><td>26</td><td>124</td><td>35</td><td>341.834</td><td>3.96001e6</td><td>2.02e5</td><td>2.19125e5</td><td>2.9e5</td><td>31032.0</td><td>9.6</td><td>57.9</td><td>0.0465583</td></tr><tr><th>3</th><td>3</td><td>al</td><td>1984</td><td>1.32</td><td>11.1</td><td>11108.8</td><td>54.1681</td><td>1.71429</td><td>30.3115</td><td>0.35924</td><td>19.0</td><td>24.0426</td><td>0.211484</td><td>8262.99</td><td>no</td><td>no</td><td>no</td><td>932</td><td>165</td><td>94</td><td>49</td><td>7</td><td>103</td><td>25</td><td>118</td><td>34</td><td>304.872</td><td>3.98899e6</td><td>197000.0</td><td>2.16724e5</td><td>2.88e5</td><td>32961.0</td><td>7.5</td><td>59.5</td><td>0.0627978</td></tr><tr><th>4</th><td>4</td><td>al</td><td>1985</td><td>1.28</td><td>8.9</td><td>11332.6</td><td>55.2711</td><td>1.65254</td><td>30.2895</td><td>0.37579</td><td>19.67</td><td>23.6339</td><td>0.21114</td><td>8726.92</td><td>no</td><td>no</td><td>no</td><td>882</td><td>146</td><td>98</td><td>66</td><td>9</td><td>100</td><td>23</td><td>114</td><td>45</td><td>276.742</td><td>4.02101e6</td><td>1.95e5</td><td>214349.0</td><td>2.84e5</td><td>35091.0</td><td>7.2</td><td>60.1</td><td>0.02749</td></tr><tr><th>5</th><td>5</td><td>al</td><td>1986</td><td>1.23</td><td>9.8</td><td>11661.5</td><td>56.5145</td><td>1.60991</td><td>30.2674</td><td>0.39311</td><td>21.0</td><td>23.4647</td><td>0.2134</td><td>8952.85</td><td>no</td><td>no</td><td>no</td><td>1081</td><td>172</td><td>119</td><td>82</td><td>10</td><td>120</td><td>23</td><td>119</td><td>29</td><td>360.716</td><td>4.04999e6</td><td>2.04e5</td><td>212000.0</td><td>2.63e5</td><td>36259.0</td><td>7.0</td><td>60.7</td><td>0.0321429</td></tr><tr><th>6</th><td>6</td><td>al</td><td>1987</td><td>1.18</td><td>7.8</td><td>11944.0</td><td>57.5099</td><td>1.56</td><td>30.2453</td><td>0.41123</td><td>21.0</td><td>23.7924</td><td>0.215527</td><td>9166.3</td><td>no</td><td>no</td><td>no</td><td>1110</td><td>181</td><td>114</td><td>94</td><td>11</td><td>127</td><td>31</td><td>138</td><td>30</td><td>368.421</td><td>4.083e6</td><td>2.05e5</td><td>2.08998e5</td><td>2.59e5</td><td>37426.0</td><td>6.2</td><td>61.5</td><td>0.0489764</td></tr><tr><th>7</th><td>7</td><td>al</td><td>1988</td><td>1.17</td><td>7.2</td><td>12368.6</td><td>56.8345</td><td>1.50144</td><td>30.2233</td><td>0.43018</td><td>21.0</td><td>23.7924</td><td>0.218328</td><td>9674.32</td><td>no</td><td>no</td><td>no</td><td>1023</td><td>139</td><td>89</td><td>66</td><td>8</td><td>105</td><td>24</td><td>123</td><td>25</td><td>298.322</td><td>4.10199e6</td><td>2.01e5</td><td>1.93001e5</td><td>2.63e5</td><td>39684.0</td><td>5.5</td><td>62.3</td><td>0.0353918</td></tr><tr><th>8</th><td>8</td><td>az</td><td>1982</td><td>1.97</td><td>9.9</td><td>12309.1</td><td>56.8933</td><td>0.214797</td><td>3.9589</td><td>4.9191</td><td>19.0</td><td>0.0</td><td>0.209012</td><td>6810.16</td><td>no</td><td>yes</td><td>yes</td><td>724</td><td>131</td><td>76</td><td>40</td><td>7</td><td>81</td><td>16</td><td>96</td><td>36</td><td>173.668</td><td>2.897e6</td><td>141000.0</td><td>1.56379e5</td><td>218000.0</td><td>19729.0</td><td>9.7</td><td>57.8</td><td>-0.0431819</td></tr><tr><th>9</th><td>9</td><td>az</td><td>1983</td><td>1.9</td><td>9.1</td><td>12693.8</td><td>57.5536</td><td>0.206422</td><td>3.8901</td><td>4.83107</td><td>19.0</td><td>0.0</td><td>0.203855</td><td>6587.49</td><td>no</td><td>yes</td><td>yes</td><td>675</td><td>112</td><td>60</td><td>40</td><td>7</td><td>83</td><td>19</td><td>80</td><td>17</td><td>196.89</td><td>2.977e6</td><td>1.39e5</td><td>1.57521e5</td><td>2.19e5</td><td>19611.0</td><td>9.6</td><td>57.9</td><td>0.0762055</td></tr><tr><th>10</th><td>10</td><td>az</td><td>1984</td><td>2.14</td><td>5.0</td><td>13265.9</td><td>60.379</td><td>0.296703</td><td>3.8226</td><td>4.74461</td><td>19.0</td><td>0.0</td><td>0.209127</td><td>6709.97</td><td>no</td><td>yes</td><td>yes</td><td>869</td><td>149</td><td>81</td><td>51</td><td>8</td><td>118</td><td>34</td><td>123</td><td>33</td><td>212.361</td><td>3.072e6</td><td>1.38e5</td><td>1.58673e5</td><td>220000.0</td><td>20613.0</td><td>7.5</td><td>59.5</td><td>0.106214</td></tr><tr><th>11</th><td>11</td><td>az</td><td>1985</td><td>1.86</td><td>6.5</td><td>13726.7</td><td>58.6485</td><td>0.381356</td><td>3.7562</td><td>4.65971</td><td>21.0</td><td>0.0</td><td>0.188428</td><td>6771.26</td><td>no</td><td>yes</td><td>yes</td><td>893</td><td>150</td><td>75</td><td>48</td><td>11</td><td>100</td><td>26</td><td>121</td><td>30</td><td>225.824</td><td>3.187e6</td><td>1.4e5</td><td>159832.0</td><td>220000.0</td><td>21580.0</td><td>7.2</td><td>60.1</td><td>0.0781956</td></tr><tr><th>12</th><td>12</td><td>az</td><td>1986</td><td>1.78</td><td>6.9</td><td>14107.3</td><td>60.2802</td><td>0.371517</td><td>3.691</td><td>4.57632</td><td>21.0</td><td>0.0</td><td>0.171539</td><td>8129.01</td><td>no</td><td>yes</td><td>yes</td><td>1007</td><td>173</td><td>85</td><td>72</td><td>19</td><td>104</td><td>30</td><td>130</td><td>25</td><td>242.827</td><td>3.279e6</td><td>1.48e5</td><td>161000.0</td><td>2.11e5</td><td>26655.0</td><td>7.0</td><td>60.7</td><td>0.0677125</td></tr><tr><th>13</th><td>13</td><td>az</td><td>1987</td><td>1.72</td><td>6.2</td><td>14241.0</td><td>60.2151</td><td>0.36</td><td>3.6269</td><td>4.49442</td><td>21.0</td><td>0.0</td><td>0.168724</td><td>9370.65</td><td>no</td><td>yes</td><td>yes</td><td>937</td><td>172</td><td>87</td><td>50</td><td>16</td><td>99</td><td>25</td><td>121</td><td>34</td><td>241.78</td><td>3.386e6</td><td>1.49e5</td><td>1.62e5</td><td>2.12e5</td><td>31729.0</td><td>6.2</td><td>61.5</td><td>0.0641113</td></tr><tr><th>14</th><td>14</td><td>az</td><td>1988</td><td>1.68</td><td>6.3</td><td>14408.1</td><td>60.4977</td><td>0.346487</td><td>3.564</td><td>4.41399</td><td>21.0</td><td>0.0</td><td>0.161005</td><td>9815.72</td><td>no</td><td>yes</td><td>yes</td><td>944</td><td>136</td><td>67</td><td>54</td><td>14</td><td>100</td><td>14</td><td>116</td><td>31</td><td>238.234</td><td>3.489e6</td><td>1.48e5</td><td>1.57001e5</td><td>218000.0</td><td>34247.0</td><td>5.5</td><td>62.3</td><td>0.0265678</td></tr><tr><th>15</th><td>15</td><td>ar</td><td>1982</td><td>1.19</td><td>9.8</td><td>10267.3</td><td>54.4759</td><td>0.650358</td><td>22.9672</td><td>0.32829</td><td>21.0</td><td>36.7128</td><td>0.204903</td><td>7208.5</td><td>no</td><td>no</td><td>no</td><td>550</td><td>102</td><td>64</td><td>36</td><td>5</td><td>62</td><td>24</td><td>61</td><td>18</td><td>271.459</td><td>2.307e6</td><td>122000.0</td><td>1.2127e5</td><td>157000.0</td><td>16630.0</td><td>9.7</td><td>57.8</td><td>-0.0347338</td></tr><tr><th>16</th><td>16</td><td>ar</td><td>1983</td><td>1.2</td><td>10.1</td><td>10433.5</td><td>53.8148</td><td>0.675459</td><td>23.0009</td><td>0.34341</td><td>21.0</td><td>36.4301</td><td>0.194169</td><td>7175.92</td><td>no</td><td>no</td><td>no</td><td>557</td><td>88</td><td>47</td><td>35</td><td>2</td><td>65</td><td>19</td><td>73</td><td>22</td><td>247.857</td><td>2.325e6</td><td>1.18e5</td><td>1.20698e5</td><td>1.59e5</td><td>16684.0</td><td>9.6</td><td>57.9</td><td>0.0401444</td></tr><tr><th>17</th><td>17</td><td>ar</td><td>1984</td><td>1.22</td><td>8.9</td><td>10916.5</td><td>54.6713</td><td>0.598901</td><td>23.0346</td><td>0.35924</td><td>21.0</td><td>36.104</td><td>0.18638</td><td>7084.82</td><td>no</td><td>no</td><td>no</td><td>525</td><td>81</td><td>48</td><td>34</td><td>2</td><td>72</td><td>24</td><td>67</td><td>18</td><td>182.707</td><td>2.346e6</td><td>1.15e5</td><td>1.20129e5</td><td>1.62e5</td><td>16621.0</td><td>7.5</td><td>59.5</td><td>0.0835973</td></tr><tr><th>18</th><td>18</td><td>ar</td><td>1985</td><td>1.12</td><td>8.7</td><td>11149.4</td><td>54.9771</td><td>0.577331</td><td>23.0684</td><td>0.37579</td><td>21.0</td><td>35.905</td><td>0.189292</td><td>7253.92</td><td>no</td><td>no</td><td>no</td><td>534</td><td>73</td><td>43</td><td>45</td><td>7</td><td>56</td><td>13</td><td>57</td><td>19</td><td>198.154</td><td>2.359e6</td><td>113000.0</td><td>1.19563e5</td><td>1.61e5</td><td>17112.0</td><td>7.2</td><td>60.1</td><td>0.00460218</td></tr><tr><th>19</th><td>19</td><td>ar</td><td>1986</td><td>0.92</td><td>8.7</td><td>11399.4</td><td>55.5619</td><td>0.562436</td><td>23.1022</td><td>0.39311</td><td>21.0</td><td>39.5696</td><td>0.161957</td><td>7469.0</td><td>no</td><td>no</td><td>no</td><td>603</td><td>108</td><td>67</td><td>48</td><td>7</td><td>66</td><td>22</td><td>78</td><td>22</td><td>237.517</td><td>2.371e6</td><td>1.15e5</td><td>119000.0</td><td>145000.0</td><td>17709.0</td><td>7.0</td><td>60.7</td><td>0.0297692</td></tr><tr><th>20</th><td>20</td><td>ar</td><td>1987</td><td>1.01</td><td>8.1</td><td>11537.0</td><td>56.3309</td><td>0.545</td><td>23.1361</td><td>0.41123</td><td>21.0</td><td>39.2879</td><td>0.164132</td><td>7665.83</td><td>no</td><td>no</td><td>no</td><td>639</td><td>110</td><td>61</td><td>58</td><td>15</td><td>72</td><td>19</td><td>65</td><td>17</td><td>221.905</td><td>2.388e6</td><td>116000.0</td><td>1.17001e5</td><td>1.42e5</td><td>18306.0</td><td>6.2</td><td>61.5</td><td>0.00193003</td></tr><tr><th>21</th><td>21</td><td>ar</td><td>1988</td><td>0.99</td><td>7.7</td><td>11760.3</td><td>57.367</td><td>0.524543</td><td>23.17</td><td>0.43018</td><td>21.0</td><td>39.2879</td><td>0.167541</td><td>8024.63</td><td>no</td><td>no</td><td>no</td><td>610</td><td>86</td><td>55</td><td>41</td><td>6</td><td>61</td><td>16</td><td>69</td><td>21</td><td>208.85</td><td>2.395e6</td><td>114000.0</td><td>1.09999e5</td><td>1.46e5</td><td>19219.0</td><td>5.5</td><td>62.3</td><td>0.0337335</td></tr><tr><th>22</th><td>22</td><td>ca</td><td>1982</td><td>2.21</td><td>9.9</td><td>15797.1</td><td>59.5159</td><td>0.107399</td><td>1.7231</td><td>1.67854</td><td>21.0</td><td>0.0</td><td>0.190196</td><td>6858.68</td><td>no</td><td>no</td><td>no</td><td>4615</td><td>944</td><td>553</td><td>241</td><td>61</td><td>567</td><td>161</td><td>758</td><td>249</td><td>1379.13</td><td>2.4786e7</td><td>1.157e6</td><td>1.321e6</td><td>1.893e6</td><td>169999.0</td><td>9.7</td><td>57.8</td><td>-0.011686</td></tr><tr><th>23</th><td>23</td><td>ca</td><td>1983</td><td>2.15</td><td>9.7</td><td>15970.2</td><td>59.2523</td><td>0.103211</td><td>1.7347</td><td>1.66792</td><td>21.0</td><td>0.0</td><td>0.183569</td><td>7216.29</td><td>no</td><td>no</td><td>no</td><td>4573</td><td>856</td><td>487</td><td>232</td><td>39</td><td>513</td><td>141</td><td>702</td><td>206</td><td>1251.6</td><td>2.53111e7</td><td>1.126e6</td><td>1.30986e6</td><td>1.886e6</td><td>182652.0</td><td>9.6</td><td>57.9</td><td>0.0530367</td></tr><tr><th>24</th><td>24</td><td>ca</td><td>1984</td><td>2.07</td><td>7.8</td><td>16590.1</td><td>60.6983</td><td>0.0989011</td><td>1.7464</td><td>1.65736</td><td>21.0</td><td>0.0</td><td>0.174131</td><td>7619.18</td><td>no</td><td>no</td><td>no</td><td>5020</td><td>957</td><td>559</td><td>267</td><td>68</td><td>593</td><td>177</td><td>770</td><td>215</td><td>1421.82</td><td>2.5795e7</td><td>1.105e6</td><td>1.29882e6</td><td>1.874e6</td><td>196537.0</td><td>7.5</td><td>59.5</td><td>0.072461</td></tr><tr><th>25</th><td>25</td><td>ca</td><td>1985</td><td>1.97</td><td>7.2</td><td>16985.2</td><td>61.3317</td><td>0.095339</td><td>1.7582</td><td>1.64687</td><td>21.0</td><td>0.0</td><td>0.167896</td><td>7874.07</td><td>no</td><td>no</td><td>no</td><td>4960</td><td>887</td><td>499</td><td>302</td><td>65</td><td>545</td><td>139</td><td>762</td><td>226</td><td>1243.92</td><td>2.6365e7</td><td>1.106e6</td><td>1.28786e6</td><td>1.855e6</td><td>207600.0</td><td>7.2</td><td>60.1</td><td>0.0483305</td></tr><tr><th>26</th><td>26</td><td>ca</td><td>1986</td><td>1.85</td><td>6.7</td><td>17356.0</td><td>62.0085</td><td>0.0928793</td><td>1.7701</td><td>1.63644</td><td>21.0</td><td>0.0</td><td>0.164371</td><td>8034.91</td><td>no</td><td>no</td><td>no</td><td>5253</td><td>880</td><td>510</td><td>318</td><td>62</td><td>571</td><td>141</td><td>757</td><td>185</td><td>1309.91</td><td>2.7001e7</td><td>1.172e6</td><td>1.277e6</td><td>1.767e6</td><td>216951.0</td><td>7.0</td><td>60.7</td><td>0.0466814</td></tr><tr><th>27</th><td>27</td><td>ca</td><td>1987</td><td>1.78</td><td>5.8</td><td>17846.0</td><td>63.0743</td><td>0.09</td><td>1.7821</td><td>1.62608</td><td>21.0</td><td>0.0</td><td>0.160682</td><td>8180.63</td><td>no</td><td>no</td><td>no</td><td>5504</td><td>944</td><td>531</td><td>302</td><td>50</td><td>601</td><td>137</td><td>717</td><td>199</td><td>1431.57</td><td>2.7663e7</td><td>1.163e6</td><td>1.26801e6</td><td>1.754e6</td><td>226301.0</td><td>6.2</td><td>61.5</td><td>0.0697363</td></tr><tr><th>28</th><td>28</td><td>ca</td><td>1988</td><td>1.72</td><td>5.3</td><td>18049.1</td><td>63.7837</td><td>0.0866218</td><td>1.7941</td><td>1.61578</td><td>21.0</td><td>0.0</td><td>0.148684</td><td>8531.99</td><td>no</td><td>NA</td><td>NA</td><td>5390</td><td>936</td><td>541</td><td>246</td><td>48</td><td>583</td><td>144</td><td>702</td><td>197</td><td>1246.71</td><td>2.8314e7</td><td>1.127e6</td><td>1.22799e6</td><td>1.77e6</td><td>241575.0</td><td>5.5</td><td>62.3</td><td>0.0490204</td></tr><tr><th>29</th><td>29</td><td>co</td><td>1982</td><td>2.25</td><td>7.7</td><td>15082.3</td><td>64.9667</td><td>0.214797</td><td>2.3</td><td>1.82301</td><td>21.0</td><td>0.113151</td><td>0.229148</td><td>7742.84</td><td>no</td><td>no</td><td>yes</td><td>668</td><td>140</td><td>96</td><td>27</td><td>5</td><td>91</td><td>36</td><td>100</td><td>35</td><td>219.75</td><td>3.072e6</td><td>1.43e5</td><td>1.69957e5</td><td>246000.0</td><td>23786.0</td><td>9.7</td><td>57.8</td><td>0.012043</td></tr><tr><th>30</th><td>30</td><td>co</td><td>1983</td><td>2.15</td><td>6.6</td><td>15131.9</td><td>67.3002</td><td>0.206422</td><td>2.3</td><td>1.83462</td><td>21.0</td><td>0.090822</td><td>0.207658</td><td>7656.06</td><td>yes</td><td>no</td><td>yes</td><td>646</td><td>146</td><td>92</td><td>44</td><td>12</td><td>68</td><td>20</td><td>98</td><td>30</td><td>217.35</td><td>3.14901e6</td><td>1.4e5</td><td>167672.0</td><td>2.43e5</td><td>24109.0</td><td>9.6</td><td>57.9</td><td>0.0291794</td></tr><tr><th>&vellip;</th><td>&vellip;</td><td>&vellip;</td><td>&vellip;</td><td>&vellip;</td><td>&vellip;</td><td>&vellip;</td><td>&vellip;</td><td>&vellip;</td><td>&vellip;</td><td>&vellip;</td><td>&vellip;</td><td>&vellip;</td><td>&vellip;</td><td>&vellip;</td><td>&vellip;</td><td>&vellip;</td><td>&vellip;</td><td>&vellip;</td><td>&vellip;</td><td>&vellip;</td><td>&vellip;</td><td>&vellip;</td><td>&vellip;</td><td>&vellip;</td><td>&vellip;</td><td>&vellip;</td><td>&vellip;</td><td>&vellip;</td><td>&vellip;</td><td>&vellip;</td><td>&vellip;</td><td>&vellip;</td><td>&vellip;</td><td>&vellip;</td><td>&vellip;</td></tr></tbody></table>"
      ],
      "text/latex": [
       "\\begin{tabular}{r|ccccccccccccccccccccccccccccccccccc}\n",
       "\t& Column1 & state & year & spirits & unemp & income & emppop & beertax & baptist & mormon & drinkage & dry & youngdrivers & miles & breath & jail & service & fatal & nfatal & sfatal & fatal1517 & nfatal1517 & fatal1820 & nfatal1820 & fatal2124 & nfatal2124 & afatal & pop & pop1517 & pop1820 & pop2124 & milestot & unempus & emppopus & gsp\\\\\n",
       "\t\\hline\n",
       "\t& Int64⍰ & String⍰ & Int64⍰ & Float64⍰ & Float64⍰ & Float64⍰ & Float64⍰ & Float64⍰ & Float64⍰ & Float64⍰ & Float64⍰ & Float64⍰ & Float64⍰ & Float64⍰ & String⍰ & String⍰ & String⍰ & Int64⍰ & Int64⍰ & Int64⍰ & Int64⍰ & Int64⍰ & Int64⍰ & Int64⍰ & Int64⍰ & Int64⍰ & Float64⍰ & Float64⍰ & Float64⍰ & Float64⍰ & Float64⍰ & Float64⍰ & Float64⍰ & Float64⍰ & Float64⍰\\\\\n",
       "\t\\hline\n",
       "\t1 & 1 & al & 1982 & 1.37 & 14.4 & 10544.2 & 50.692 & 1.53938 & 30.3557 & 0.32829 & 19.0 & 25.0063 & 0.211572 & 7233.89 & no & no & no & 839 & 146 & 99 & 53 & 9 & 99 & 34 & 120 & 32 & 309.438 & 3.942e6 & 2.09e5 & 2.21553e5 & 2.9e5 & 28516.0 & 9.7 & 57.8 & -0.0221248 \\\\\n",
       "\t2 & 2 & al & 1983 & 1.36 & 13.7 & 10732.8 & 52.147 & 1.78899 & 30.3336 & 0.34341 & 19.0 & 22.9942 & 0.210768 & 7836.35 & no & no & no & 930 & 154 & 98 & 71 & 8 & 108 & 26 & 124 & 35 & 341.834 & 3.96001e6 & 2.02e5 & 2.19125e5 & 2.9e5 & 31032.0 & 9.6 & 57.9 & 0.0465583 \\\\\n",
       "\t3 & 3 & al & 1984 & 1.32 & 11.1 & 11108.8 & 54.1681 & 1.71429 & 30.3115 & 0.35924 & 19.0 & 24.0426 & 0.211484 & 8262.99 & no & no & no & 932 & 165 & 94 & 49 & 7 & 103 & 25 & 118 & 34 & 304.872 & 3.98899e6 & 197000.0 & 2.16724e5 & 2.88e5 & 32961.0 & 7.5 & 59.5 & 0.0627978 \\\\\n",
       "\t4 & 4 & al & 1985 & 1.28 & 8.9 & 11332.6 & 55.2711 & 1.65254 & 30.2895 & 0.37579 & 19.67 & 23.6339 & 0.21114 & 8726.92 & no & no & no & 882 & 146 & 98 & 66 & 9 & 100 & 23 & 114 & 45 & 276.742 & 4.02101e6 & 1.95e5 & 214349.0 & 2.84e5 & 35091.0 & 7.2 & 60.1 & 0.02749 \\\\\n",
       "\t5 & 5 & al & 1986 & 1.23 & 9.8 & 11661.5 & 56.5145 & 1.60991 & 30.2674 & 0.39311 & 21.0 & 23.4647 & 0.2134 & 8952.85 & no & no & no & 1081 & 172 & 119 & 82 & 10 & 120 & 23 & 119 & 29 & 360.716 & 4.04999e6 & 2.04e5 & 212000.0 & 2.63e5 & 36259.0 & 7.0 & 60.7 & 0.0321429 \\\\\n",
       "\t6 & 6 & al & 1987 & 1.18 & 7.8 & 11944.0 & 57.5099 & 1.56 & 30.2453 & 0.41123 & 21.0 & 23.7924 & 0.215527 & 9166.3 & no & no & no & 1110 & 181 & 114 & 94 & 11 & 127 & 31 & 138 & 30 & 368.421 & 4.083e6 & 2.05e5 & 2.08998e5 & 2.59e5 & 37426.0 & 6.2 & 61.5 & 0.0489764 \\\\\n",
       "\t7 & 7 & al & 1988 & 1.17 & 7.2 & 12368.6 & 56.8345 & 1.50144 & 30.2233 & 0.43018 & 21.0 & 23.7924 & 0.218328 & 9674.32 & no & no & no & 1023 & 139 & 89 & 66 & 8 & 105 & 24 & 123 & 25 & 298.322 & 4.10199e6 & 2.01e5 & 1.93001e5 & 2.63e5 & 39684.0 & 5.5 & 62.3 & 0.0353918 \\\\\n",
       "\t8 & 8 & az & 1982 & 1.97 & 9.9 & 12309.1 & 56.8933 & 0.214797 & 3.9589 & 4.9191 & 19.0 & 0.0 & 0.209012 & 6810.16 & no & yes & yes & 724 & 131 & 76 & 40 & 7 & 81 & 16 & 96 & 36 & 173.668 & 2.897e6 & 141000.0 & 1.56379e5 & 218000.0 & 19729.0 & 9.7 & 57.8 & -0.0431819 \\\\\n",
       "\t9 & 9 & az & 1983 & 1.9 & 9.1 & 12693.8 & 57.5536 & 0.206422 & 3.8901 & 4.83107 & 19.0 & 0.0 & 0.203855 & 6587.49 & no & yes & yes & 675 & 112 & 60 & 40 & 7 & 83 & 19 & 80 & 17 & 196.89 & 2.977e6 & 1.39e5 & 1.57521e5 & 2.19e5 & 19611.0 & 9.6 & 57.9 & 0.0762055 \\\\\n",
       "\t10 & 10 & az & 1984 & 2.14 & 5.0 & 13265.9 & 60.379 & 0.296703 & 3.8226 & 4.74461 & 19.0 & 0.0 & 0.209127 & 6709.97 & no & yes & yes & 869 & 149 & 81 & 51 & 8 & 118 & 34 & 123 & 33 & 212.361 & 3.072e6 & 1.38e5 & 1.58673e5 & 220000.0 & 20613.0 & 7.5 & 59.5 & 0.106214 \\\\\n",
       "\t11 & 11 & az & 1985 & 1.86 & 6.5 & 13726.7 & 58.6485 & 0.381356 & 3.7562 & 4.65971 & 21.0 & 0.0 & 0.188428 & 6771.26 & no & yes & yes & 893 & 150 & 75 & 48 & 11 & 100 & 26 & 121 & 30 & 225.824 & 3.187e6 & 1.4e5 & 159832.0 & 220000.0 & 21580.0 & 7.2 & 60.1 & 0.0781956 \\\\\n",
       "\t12 & 12 & az & 1986 & 1.78 & 6.9 & 14107.3 & 60.2802 & 0.371517 & 3.691 & 4.57632 & 21.0 & 0.0 & 0.171539 & 8129.01 & no & yes & yes & 1007 & 173 & 85 & 72 & 19 & 104 & 30 & 130 & 25 & 242.827 & 3.279e6 & 1.48e5 & 161000.0 & 2.11e5 & 26655.0 & 7.0 & 60.7 & 0.0677125 \\\\\n",
       "\t13 & 13 & az & 1987 & 1.72 & 6.2 & 14241.0 & 60.2151 & 0.36 & 3.6269 & 4.49442 & 21.0 & 0.0 & 0.168724 & 9370.65 & no & yes & yes & 937 & 172 & 87 & 50 & 16 & 99 & 25 & 121 & 34 & 241.78 & 3.386e6 & 1.49e5 & 1.62e5 & 2.12e5 & 31729.0 & 6.2 & 61.5 & 0.0641113 \\\\\n",
       "\t14 & 14 & az & 1988 & 1.68 & 6.3 & 14408.1 & 60.4977 & 0.346487 & 3.564 & 4.41399 & 21.0 & 0.0 & 0.161005 & 9815.72 & no & yes & yes & 944 & 136 & 67 & 54 & 14 & 100 & 14 & 116 & 31 & 238.234 & 3.489e6 & 1.48e5 & 1.57001e5 & 218000.0 & 34247.0 & 5.5 & 62.3 & 0.0265678 \\\\\n",
       "\t15 & 15 & ar & 1982 & 1.19 & 9.8 & 10267.3 & 54.4759 & 0.650358 & 22.9672 & 0.32829 & 21.0 & 36.7128 & 0.204903 & 7208.5 & no & no & no & 550 & 102 & 64 & 36 & 5 & 62 & 24 & 61 & 18 & 271.459 & 2.307e6 & 122000.0 & 1.2127e5 & 157000.0 & 16630.0 & 9.7 & 57.8 & -0.0347338 \\\\\n",
       "\t16 & 16 & ar & 1983 & 1.2 & 10.1 & 10433.5 & 53.8148 & 0.675459 & 23.0009 & 0.34341 & 21.0 & 36.4301 & 0.194169 & 7175.92 & no & no & no & 557 & 88 & 47 & 35 & 2 & 65 & 19 & 73 & 22 & 247.857 & 2.325e6 & 1.18e5 & 1.20698e5 & 1.59e5 & 16684.0 & 9.6 & 57.9 & 0.0401444 \\\\\n",
       "\t17 & 17 & ar & 1984 & 1.22 & 8.9 & 10916.5 & 54.6713 & 0.598901 & 23.0346 & 0.35924 & 21.0 & 36.104 & 0.18638 & 7084.82 & no & no & no & 525 & 81 & 48 & 34 & 2 & 72 & 24 & 67 & 18 & 182.707 & 2.346e6 & 1.15e5 & 1.20129e5 & 1.62e5 & 16621.0 & 7.5 & 59.5 & 0.0835973 \\\\\n",
       "\t18 & 18 & ar & 1985 & 1.12 & 8.7 & 11149.4 & 54.9771 & 0.577331 & 23.0684 & 0.37579 & 21.0 & 35.905 & 0.189292 & 7253.92 & no & no & no & 534 & 73 & 43 & 45 & 7 & 56 & 13 & 57 & 19 & 198.154 & 2.359e6 & 113000.0 & 1.19563e5 & 1.61e5 & 17112.0 & 7.2 & 60.1 & 0.00460218 \\\\\n",
       "\t19 & 19 & ar & 1986 & 0.92 & 8.7 & 11399.4 & 55.5619 & 0.562436 & 23.1022 & 0.39311 & 21.0 & 39.5696 & 0.161957 & 7469.0 & no & no & no & 603 & 108 & 67 & 48 & 7 & 66 & 22 & 78 & 22 & 237.517 & 2.371e6 & 1.15e5 & 119000.0 & 145000.0 & 17709.0 & 7.0 & 60.7 & 0.0297692 \\\\\n",
       "\t20 & 20 & ar & 1987 & 1.01 & 8.1 & 11537.0 & 56.3309 & 0.545 & 23.1361 & 0.41123 & 21.0 & 39.2879 & 0.164132 & 7665.83 & no & no & no & 639 & 110 & 61 & 58 & 15 & 72 & 19 & 65 & 17 & 221.905 & 2.388e6 & 116000.0 & 1.17001e5 & 1.42e5 & 18306.0 & 6.2 & 61.5 & 0.00193003 \\\\\n",
       "\t21 & 21 & ar & 1988 & 0.99 & 7.7 & 11760.3 & 57.367 & 0.524543 & 23.17 & 0.43018 & 21.0 & 39.2879 & 0.167541 & 8024.63 & no & no & no & 610 & 86 & 55 & 41 & 6 & 61 & 16 & 69 & 21 & 208.85 & 2.395e6 & 114000.0 & 1.09999e5 & 1.46e5 & 19219.0 & 5.5 & 62.3 & 0.0337335 \\\\\n",
       "\t22 & 22 & ca & 1982 & 2.21 & 9.9 & 15797.1 & 59.5159 & 0.107399 & 1.7231 & 1.67854 & 21.0 & 0.0 & 0.190196 & 6858.68 & no & no & no & 4615 & 944 & 553 & 241 & 61 & 567 & 161 & 758 & 249 & 1379.13 & 2.4786e7 & 1.157e6 & 1.321e6 & 1.893e6 & 169999.0 & 9.7 & 57.8 & -0.011686 \\\\\n",
       "\t23 & 23 & ca & 1983 & 2.15 & 9.7 & 15970.2 & 59.2523 & 0.103211 & 1.7347 & 1.66792 & 21.0 & 0.0 & 0.183569 & 7216.29 & no & no & no & 4573 & 856 & 487 & 232 & 39 & 513 & 141 & 702 & 206 & 1251.6 & 2.53111e7 & 1.126e6 & 1.30986e6 & 1.886e6 & 182652.0 & 9.6 & 57.9 & 0.0530367 \\\\\n",
       "\t24 & 24 & ca & 1984 & 2.07 & 7.8 & 16590.1 & 60.6983 & 0.0989011 & 1.7464 & 1.65736 & 21.0 & 0.0 & 0.174131 & 7619.18 & no & no & no & 5020 & 957 & 559 & 267 & 68 & 593 & 177 & 770 & 215 & 1421.82 & 2.5795e7 & 1.105e6 & 1.29882e6 & 1.874e6 & 196537.0 & 7.5 & 59.5 & 0.072461 \\\\\n",
       "\t25 & 25 & ca & 1985 & 1.97 & 7.2 & 16985.2 & 61.3317 & 0.095339 & 1.7582 & 1.64687 & 21.0 & 0.0 & 0.167896 & 7874.07 & no & no & no & 4960 & 887 & 499 & 302 & 65 & 545 & 139 & 762 & 226 & 1243.92 & 2.6365e7 & 1.106e6 & 1.28786e6 & 1.855e6 & 207600.0 & 7.2 & 60.1 & 0.0483305 \\\\\n",
       "\t26 & 26 & ca & 1986 & 1.85 & 6.7 & 17356.0 & 62.0085 & 0.0928793 & 1.7701 & 1.63644 & 21.0 & 0.0 & 0.164371 & 8034.91 & no & no & no & 5253 & 880 & 510 & 318 & 62 & 571 & 141 & 757 & 185 & 1309.91 & 2.7001e7 & 1.172e6 & 1.277e6 & 1.767e6 & 216951.0 & 7.0 & 60.7 & 0.0466814 \\\\\n",
       "\t27 & 27 & ca & 1987 & 1.78 & 5.8 & 17846.0 & 63.0743 & 0.09 & 1.7821 & 1.62608 & 21.0 & 0.0 & 0.160682 & 8180.63 & no & no & no & 5504 & 944 & 531 & 302 & 50 & 601 & 137 & 717 & 199 & 1431.57 & 2.7663e7 & 1.163e6 & 1.26801e6 & 1.754e6 & 226301.0 & 6.2 & 61.5 & 0.0697363 \\\\\n",
       "\t28 & 28 & ca & 1988 & 1.72 & 5.3 & 18049.1 & 63.7837 & 0.0866218 & 1.7941 & 1.61578 & 21.0 & 0.0 & 0.148684 & 8531.99 & no & NA & NA & 5390 & 936 & 541 & 246 & 48 & 583 & 144 & 702 & 197 & 1246.71 & 2.8314e7 & 1.127e6 & 1.22799e6 & 1.77e6 & 241575.0 & 5.5 & 62.3 & 0.0490204 \\\\\n",
       "\t29 & 29 & co & 1982 & 2.25 & 7.7 & 15082.3 & 64.9667 & 0.214797 & 2.3 & 1.82301 & 21.0 & 0.113151 & 0.229148 & 7742.84 & no & no & yes & 668 & 140 & 96 & 27 & 5 & 91 & 36 & 100 & 35 & 219.75 & 3.072e6 & 1.43e5 & 1.69957e5 & 246000.0 & 23786.0 & 9.7 & 57.8 & 0.012043 \\\\\n",
       "\t30 & 30 & co & 1983 & 2.15 & 6.6 & 15131.9 & 67.3002 & 0.206422 & 2.3 & 1.83462 & 21.0 & 0.090822 & 0.207658 & 7656.06 & yes & no & yes & 646 & 146 & 92 & 44 & 12 & 68 & 20 & 98 & 30 & 217.35 & 3.14901e6 & 1.4e5 & 167672.0 & 2.43e5 & 24109.0 & 9.6 & 57.9 & 0.0291794 \\\\\n",
       "\t$\\dots$ & $\\dots$ & $\\dots$ & $\\dots$ & $\\dots$ & $\\dots$ & $\\dots$ & $\\dots$ & $\\dots$ & $\\dots$ & $\\dots$ & $\\dots$ & $\\dots$ & $\\dots$ & $\\dots$ & $\\dots$ & $\\dots$ & $\\dots$ & $\\dots$ & $\\dots$ & $\\dots$ & $\\dots$ & $\\dots$ & $\\dots$ & $\\dots$ & $\\dots$ & $\\dots$ & $\\dots$ & $\\dots$ & $\\dots$ & $\\dots$ & $\\dots$ & $\\dots$ & $\\dots$ & $\\dots$ & $\\dots$ \\\\\n",
       "\\end{tabular}\n"
      ],
      "text/plain": [
       "336×35 DataFrame. Omitted printing of 28 columns\n",
       "│ Row │ Column1 │ state   │ year   │ spirits  │ unemp    │ income   │ emppop   │\n",
       "│     │ \u001b[90mInt64⍰\u001b[39m  │ \u001b[90mString⍰\u001b[39m │ \u001b[90mInt64⍰\u001b[39m │ \u001b[90mFloat64⍰\u001b[39m │ \u001b[90mFloat64⍰\u001b[39m │ \u001b[90mFloat64⍰\u001b[39m │ \u001b[90mFloat64⍰\u001b[39m │\n",
       "├─────┼─────────┼─────────┼────────┼──────────┼──────────┼──────────┼──────────┤\n",
       "│ 1   │ 1       │ al      │ 1982   │ 1.37     │ 14.4     │ 10544.2  │ 50.692   │\n",
       "│ 2   │ 2       │ al      │ 1983   │ 1.36     │ 13.7     │ 10732.8  │ 52.147   │\n",
       "│ 3   │ 3       │ al      │ 1984   │ 1.32     │ 11.1     │ 11108.8  │ 54.1681  │\n",
       "│ 4   │ 4       │ al      │ 1985   │ 1.28     │ 8.9      │ 11332.6  │ 55.2711  │\n",
       "│ 5   │ 5       │ al      │ 1986   │ 1.23     │ 9.8      │ 11661.5  │ 56.5145  │\n",
       "│ 6   │ 6       │ al      │ 1987   │ 1.18     │ 7.8      │ 11944.0  │ 57.5099  │\n",
       "│ 7   │ 7       │ al      │ 1988   │ 1.17     │ 7.2      │ 12368.6  │ 56.8345  │\n",
       "│ 8   │ 8       │ az      │ 1982   │ 1.97     │ 9.9      │ 12309.1  │ 56.8933  │\n",
       "│ 9   │ 9       │ az      │ 1983   │ 1.9      │ 9.1      │ 12693.8  │ 57.5536  │\n",
       "│ 10  │ 10      │ az      │ 1984   │ 2.14     │ 5.0      │ 13265.9  │ 60.379   │\n",
       "⋮\n",
       "│ 326 │ 326     │ wi      │ 1985   │ 2.02     │ 7.2      │ 13952.3  │ 61.6289  │\n",
       "│ 327 │ 327     │ wi      │ 1986   │ 1.75     │ 7.0      │ 14351.9  │ 62.2111  │\n",
       "│ 328 │ 328     │ wi      │ 1987   │ 1.68     │ 6.1      │ 14720.0  │ 64.7043  │\n",
       "│ 329 │ 329     │ wi      │ 1988   │ 1.65     │ 4.3      │ 14941.3  │ 67.4431  │\n",
       "│ 330 │ 330     │ wy      │ 1982   │ 2.19     │ 5.8      │ 14600.2  │ 67.3184  │\n",
       "│ 331 │ 331     │ wy      │ 1983   │ 1.99     │ 8.4      │ 13574.5  │ 66.3912  │\n",
       "│ 332 │ 332     │ wy      │ 1984   │ 1.91     │ 6.3      │ 13456.0  │ 66.0221  │\n",
       "│ 333 │ 333     │ wy      │ 1985   │ 1.88     │ 7.1      │ 13595.3  │ 65.0838  │\n",
       "│ 334 │ 334     │ wy      │ 1986   │ 1.7      │ 9.0      │ 13126.9  │ 63.9665  │\n",
       "│ 335 │ 335     │ wy      │ 1987   │ 1.59     │ 8.6      │ 12719.0  │ 62.8571  │\n",
       "│ 336 │ 336     │ wy      │ 1988   │ 1.55     │ 6.3      │ 13098.2  │ 64.6377  │"
      ]
     },
     "execution_count": 3,
     "metadata": {},
     "output_type": "execute_result"
    }
   ],
   "source": [
    "using CSV #we use the CSV package to load the data\n",
    "using DataFrames #we use the DataFrames package as the data is stored as an object of type \"DataFrame\"\n",
    "\n",
    "fatalities = CSV.read(\"/mnt/juliabox/Econometrics With Julia/Datasets/fatalities.csv\")"
   ]
  },
  {
   "cell_type": "markdown",
   "metadata": {},
   "source": [
    "- We find that the dataset consists of 336 observations on 34 variables. \n",
    "- Notice that the variable state is a factor variable with 48 levels (one for each of the 48 contiguous federal states of the U.S.). \n",
    "- The variable year is also a factor variable that has 7 levels identifying the time period when the observation was made. \n",
    "- This gives us 7 × 48 = 336 observations in total. \n",
    "- Since all variables are observed for all entities and over all time periods, the panel is balanced. \n",
    "- If there were missing data for at least one entity in at least one time period we would call the panel unbalanced."
   ]
  },
  {
   "cell_type": "markdown",
   "metadata": {},
   "source": [
    "### Example: Traffic Deaths and Alcohol Taxes"
   ]
  },
  {
   "cell_type": "markdown",
   "metadata": {},
   "source": [
    "- We start by reproducing Figure 10.1 of the book. \n",
    "- To this end we estimate simple regressions using data for years 1982 and 1988 that model the relationship between beer tax (adjusted for 1988 dollars) and the traffic fatality rate, measured as the number of fatalities per 10000 inhabitants. \n",
    "- Afterwards, we plot the data and add the corresponding estimated regression functions.\n",
    "- If the kernel dies, try running the code using a local Julia environment."
   ]
  },
  {
   "cell_type": "code",
   "execution_count": null,
   "metadata": {},
   "outputs": [],
   "source": [
    "using FixedEffects #FixedEffectModels requires FixedEffects as a dependency\n",
    "using FixedEffectModels #we use FixedEffectModels to create regression models\n",
    "using CSV #we use the CSV package to load the data\n",
    "using DataFrames #we use the DataFrames package as the data is stored as an object of type \"DataFrame\"\n",
    "using Query #we use the Query package in order to filter the data using LINQ style query commands\n",
    "using Plots \n",
    "\n",
    "fatalities = CSV.read(\"/mnt/juliabox/Econometrics With Julia/Datasets/fatalities.csv\")\n",
    "\n",
    "fatalities1982 = @from i in fatalities begin\n",
    "    @where i.year == 1982\n",
    "    @select {i.beertax, fatality_rate = i.fatal / i.pop * 10000}\n",
    "    @collect DataFrame\n",
    "end\n",
    "\n",
    "fatalities1988 = @from i in fatalities begin\n",
    "    @where i.year == 1988\n",
    "    @select {i.beertax, fatality_rate = i.fatal / i.pop * 10000}\n",
    "    @collect DataFrame\n",
    "end\n",
    "\n",
    "fatalities1982_model = reg( #initialise a FixedEffectModel and define it as fatalities1982_model\n",
    "                        fatalities1982, #pass the DataFrame 'fatalities1982' as the dataset to be used in fatalities1982_model\n",
    "                        @model(fatality_rate ~ beertax), #pass the regression formula consisting of the dependent variable 'fatality_rate' and the exogenous variable 'beertax'\n",
    ")\n",
    "\n",
    "fatalities1988_model = reg( #initialise a FixedEffectModel and define it as fatalities1988_model\n",
    "                        fatalities1988, #pass the DataFrame 'fatalities1988' as the dataset to be used in fatalities1988_model\n",
    "                        @model(fatality_rate ~ beertax), #pass the regression formula consisting of the dependent variable 'fatality_rate' and the exogenous variable 'beertax'\n",
    ")\n",
    "\n",
    "println(fatalities1982_model)\n",
    "println(fatalities1988_model)\n",
    "\n"
   ]
  },
  {
   "cell_type": "markdown",
   "metadata": {},
   "source": [
    "- The estimated regression functions are\n",
    "\\begin{align*}\n",
    "  \\widehat{FatalityRate} =& \\, \\underset{(0.15)}{2.01} + \\underset{(0.13)}{0.15} \\times BeerTax \\quad (1982 \\text{ data}), \\\\\n",
    "  \\widehat{FatalityRate} =& \\, \\underset{(0.11)}{1.86} + \\underset{(0.13)}{0.44} \\times BeerTax \\quad (1988 \\text{ data}).\n",
    "\\end{align*}"
   ]
  },
  {
   "cell_type": "code",
   "execution_count": null,
   "metadata": {},
   "outputs": [],
   "source": [
    "x = fatalities1982.beertax\n",
    "y = fatalities1982.fatality_rate\n",
    "\n",
    "p1 = plot( #assign a plot object to the variable p1 using the following attributes\n",
    "    x, #x series\n",
    "    y, #y series\n",
    "    st = :scatter, #series type\n",
    "    title = \"Traffic Fatality Rates and Beer Taxes in 1982\", #plot title\n",
    "    label = \"US State\", #legend labels\n",
    "    xlabel = \"Beer tax (in 1988 dollars)\", #x axis label\n",
    "    ylabel = \"Fatality rate (fatalities per 10000)\", #y axis label\n",
    "    ylims = (0,4.5), #y axis limits\n",
    "    yticks = 0:1:4.5, #y axis tick range\n",
    "    ms = 4, #marker size\n",
    "    mc = :blue #marker color\n",
    ")\n",
    "\n",
    "y_prediction_1982(xdata) = dot(coef(fatalities1982_model), [1, xdata]) #create a function that takes the dot product of the coefficients of the 'fatalities1982_model', 1 and the given x value \n",
    "\n",
    "x = [minimum(fatalities1982.beertax), maximum(fatalities1982.beertax)]\n",
    "y = y_prediction_1982.(x) #broadcast the y function over the range of x values\n",
    "\n",
    "plot!(\n",
    "    p1,\n",
    "    x,\n",
    "    y,\n",
    "    st = :line,\n",
    "    label = \"OLS\"\n",
    ")\n",
    "\n",
    "display(p1)\n",
    "\n",
    "x = fatalities1988.beertax\n",
    "y = fatalities1988.fatality_rate\n",
    "\n",
    "p2 = plot( #assign a plot object to the variable p2 using the following attributes\n",
    "    x, #x series\n",
    "    y, #y series\n",
    "    st = :scatter, #series type\n",
    "    title = \"Traffic Fatality Rates and Beer Taxes in 1988\", #plot title\n",
    "    label = \"US State\", #legend labels\n",
    "    xlabel = \"Beer tax (in 1988 dollars)\", #x axis label\n",
    "    ylabel = \"Fatality rate (fatalities per 10000)\", #y axis label\n",
    "    ylims = (0,4.5), #y axis limits\n",
    "    yticks = 0:1:4.5, #y axis tick range\n",
    "    ms = 4, #marker size\n",
    "    mc = :blue #marker color\n",
    ")\n",
    "\n",
    "y_prediction_1988(xdata) = dot(coef(fatalities1988_model), [1, xdata]) #create a function that takes the dot product of the coefficients of the 'fatalities1988_model', 1 and the given x value\n",
    "\n",
    "x = [minimum(fatalities1988.beertax), maximum(fatalities1988.beertax)] \n",
    "y = y_prediction_1988.(x)  #broadcast the y function over the range of x values\n",
    "\n",
    "plot!(\n",
    "    p2,\n",
    "    x,\n",
    "    y,\n",
    "    st = :line,\n",
    "    label = \"OLS\"\n",
    ")\n",
    "\n",
    "display(p2)\n"
   ]
  }
 ],
 "metadata": {
  "kernelspec": {
   "display_name": "Julia 1.0.3 (4 threads)",
   "language": "julia",
   "name": "julia-1.0k"
  },
  "language_info": {
   "file_extension": ".jl",
   "mimetype": "application/julia",
   "name": "julia",
   "version": "1.0.3"
  }
 },
 "nbformat": 4,
 "nbformat_minor": 2
}
