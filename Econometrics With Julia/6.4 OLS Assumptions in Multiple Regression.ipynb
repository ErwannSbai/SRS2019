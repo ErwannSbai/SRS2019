{
 "cells": [
  {
   "cell_type": "markdown",
   "metadata": {},
   "source": [
    "## 6.4 OLS Assumptions in Multiple Regression"
   ]
  },
  {
   "cell_type": "markdown",
   "metadata": {},
   "source": [
    "- In the multiple regression model we extend the three least squares assumptions of the simple regression model and add a fourth assumption. \n",
    " - The multiple regression model is given by \n",
    " \\begin{equation}\n",
    " Y_i = \\beta_0 + \\beta_1 X_{1i} + \\beta_1 X_{2i} + \\dots + \\beta_k X_{ki} + u_i \\ , \\ i=1,\\dots,n.\n",
    " \\end{equation}\n",
    " - 1. Regressors $(X_{1i}, X_{2i}, \\dots, X_{ki}, Y_i) \\ , \\ i=1,\\dots,n$, are drawn such that the i.i.d. assumption holds.\n",
    " - 2. $u_i$ is an error term with conditional mean zero given the regressors, i.e., $E(u_i\\vert X_{1i}, X_{2i}, \\dots, X_{ki}) = 0.$\n",
    " - 3. Large outliers are unlikely, formally $X_{1i},\\dots,X_{ki}$ and $Y_i$ have finite fourth moments (finite kurtosis).\n",
    " - 4. No perfect multicollinearity."
   ]
  },
  {
   "cell_type": "markdown",
   "metadata": {},
   "source": [
    "### Multicollinearity"
   ]
  },
  {
   "cell_type": "markdown",
   "metadata": {},
   "source": [
    "- Multicollinearity means that two or more regressors in a multiple regression model are strongly correlated. \n",
    "- If the correlation between two or more regressors is perfect, that is, one regressor can be written as a linear combination of the other(s), we have perfect multicollinearity. \n",
    "- While strong multicollinearity in general is unpleasant as it causes the variance of the OLS estimator to be large (we will discuss this in more detail later), the presence of perfect multicollinearity makes it impossible to solve for the OLS estimator, i.e., the model cannot be estimated in the first place.\n",
    "- Consider the following example where we add another variable FracEL, the fraction of English learners, to CASchools where observations are scaled values of the observations for english and use it as a regressor together with STR and english in a multiple regression model. \n",
    "- In this example english and FracEL are perfectly collinear. "
   ]
  },
  {
   "cell_type": "code",
   "execution_count": 1,
   "metadata": {},
   "outputs": [
    {
     "name": "stdout",
     "output_type": "stream",
     "text": [
      "================================================================================\n"
     ]
    },
    {
     "data": {
      "text/plain": [
       "                                  Linear Model                                  \n",
       "================================================================================\n",
       "Number of obs:                      420  Degrees of freedom:                   3\n",
       "R2:                               0.426  R2 Adjusted:                      0.424\n",
       "F Statistic:                    8.69304  p-value:                          0.000\n",
       "                        Estimate Std.Error  t value Pr(>|t|) Lower 95% Upper 95%\n",
       "student_teacher_ratio    -1.1013  0.380278 -2.89603    0.004   -1.8488 -0.353794\n",
       "english                -0.649777 0.0393425 -16.5159    0.000 -0.727111 -0.572442\n",
       "FracEL                       0.0       NaN      NaN      NaN       NaN       NaN\n",
       "(Intercept)              686.032   7.41131  92.5656    0.000   671.464     700.6\n"
      ]
     },
     "execution_count": 1,
     "metadata": {},
     "output_type": "execute_result"
    },
    {
     "name": "stdout",
     "output_type": "stream",
     "text": [
      "--------------------------------------------------------------------------------\n",
      "================================================================================\n"
     ]
    }
   ],
   "source": [
    "using FixedEffects #FixedEffectModels requires FixedEffects as a dependency\n",
    "using FixedEffectModels #we use FixedEffectModels to create regression models\n",
    "using CSV #we use the CSV package to load the data\n",
    "using DataFrames #we use the DataFrames package as the data is stored as an object of type \"DataFrame\"\n",
    "using Plots #we use the Plots package for generating plots\n",
    "\n",
    "data = CSV.read(\"/mnt/juliabox/Econometrics With Julia/Datasets/CASchools.csv\") #load the data into the workspace and store it in the variable \"data\"\n",
    "\n",
    "data.student_teacher_ratio = data.students ./ data.teachers #add a new column \"student_teacher_ratio\" to the data, ./ is used to broadcast the division operator between arrays (or in this case, columns)\n",
    "data.score = (data.read .+ data.math) ./ 2 #add a new column \"score\" to the data\n",
    "\n",
    "data.FracEL = data.english / 100\n",
    "\n",
    "reg_mod = reg( #initialise a FixedEffectModel and define it as reg_mod\n",
    "                        data, #pass the DataFrame 'data' as the dataset to be used in reg_mod\n",
    "                        @model(score ~ student_teacher_ratio + english + FracEL) #pass the regression formula consisting of the dependent variable 'score' and the exogenous variable 'student_teacher_ratio'\n",
    ")"
   ]
  },
  {
   "cell_type": "markdown",
   "metadata": {},
   "source": [
    "- The row FracEL in the coefficients section of the output consists of NA entries since FracEL was excluded from the model.\n",
    "- FixedEffectModels excludes FracEL as its inclusion would render the estimation infeasible."
   ]
  },
  {
   "cell_type": "code",
   "execution_count": null,
   "metadata": {},
   "outputs": [],
   "source": []
  }
 ],
 "metadata": {
  "kernelspec": {
   "display_name": "Julia 1.0.3 (4 threads)",
   "language": "julia",
   "name": "julia-1.0k"
  },
  "language_info": {
   "file_extension": ".jl",
   "mimetype": "application/julia",
   "name": "julia",
   "version": "1.0.3"
  }
 },
 "nbformat": 4,
 "nbformat_minor": 2
}
