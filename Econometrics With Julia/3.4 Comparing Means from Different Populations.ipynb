{
 "cells": [
  {
   "cell_type": "markdown",
   "metadata": {},
   "source": [
    "## 3.4 Comparing Means from Different Populations"
   ]
  },
  {
   "cell_type": "markdown",
   "metadata": {},
   "source": [
    "- Suppose you are interested in the means of two different populations, denote them $μ_1$ and $μ_2$. \n",
    "- More specifically, you are interested in whether these population means are different from each other and plan to use a hypothesis test to verify this on the basis of independent sample data from both populations. \n",
    "- Where $d_0$ denotes the hypothesized difference in means (so $d_0 = 0$ when the means are equal, under the null hypothesis), a suitable pair of hypotheses is\n",
    "\\begin{equation}\n",
    "H_0: \\mu_1 - \\mu_2 = d_0 \\ \\ \\text{vs.} \\ \\ H_1: \\mu_1 - \\mu_2 \\neq d_0\n",
    "\\end{equation}\n",
    "- Using the two sample t-test, $H_0$ can be tested with the t-statistic\n",
    "\\begin{equation}\n",
    "t=\\frac{(\\overline{Y}_1 - \\overline{Y}_2) - d_0}{SE(\\overline{Y}_1 - \\overline{Y}_2)}\n",
    "\\end{equation}\n",
    "where\n",
    "\\begin{equation}\n",
    "SE(\\overline{Y}_1 - \\overline{Y}_2) = \\sqrt{\\frac{s_1^2}{n_1} + \\frac{s_2^2}{n_2}}.\n",
    "\\end{equation}\n",
    "\n",
    "- For large $n_1$ and $n_2$, the above t-statistic is standard normal under the null hypothesis. \n",
    "- Analogously to the simple t-test we can compute confidence intervals for the true difference in population means, a 95% confidence interval for d is:\n",
    "\n",
    "\\begin{equation}\n",
    "(\\overline{Y}_1 - \\overline{Y}_2) \\pm 1.96 \\times SE(\\overline{Y}_1 - \\overline{Y}_2)\n",
    "\\end{equation}\n",
    "\n",
    "- In Julia, we can perform this unequal variance two-sample t-test (sometimes known as Welch's t-test) of the null hypothesis that x and y come from distributions with equal means against the alternative hypothesis that the distributions have different means using the function UnequalVarianceTTest() from the HypothesisTests package."
   ]
  },
  {
   "cell_type": "code",
   "execution_count": 1,
   "metadata": {},
   "outputs": [
    {
     "data": {
      "text/plain": [
       "Two sample t-test (unequal variance)\n",
       "------------------------------------\n",
       "Population details:\n",
       "    parameter of interest:   Mean difference\n",
       "    value under h_0:         0\n",
       "    point estimate:          0.5099999999999998\n",
       "    95% confidence interval: (-1.2509, 2.2709)\n",
       "\n",
       "Test summary:\n",
       "    outcome with 95% confidence: fail to reject h_0\n",
       "    two-sided p-value:           0.5686\n",
       "\n",
       "Details:\n",
       "    number of observations:   [100,100]\n",
       "    t-statistic:              0.5711402777721202\n",
       "    degrees of freedom:       197.67829223239636\n",
       "    empirical standard error: 0.8929505059411782\n"
      ]
     },
     "execution_count": 1,
     "metadata": {},
     "output_type": "execute_result"
    }
   ],
   "source": [
    "using HypothesisTests\n",
    "\n",
    "random_data_1 = vec(rand(range(0, 20), 1, 100)) #we use vec because the OneSampleTTest requires a vector type\n",
    "random_data_2 = vec(rand(range(0, 20), 1, 100)) #we use vec because the OneSampleTTest requires a vector type\n",
    "\n",
    "UnequalVarianceTTest(random_data_1, random_data_2)"
   ]
  },
  {
   "cell_type": "markdown",
   "metadata": {},
   "source": [
    "- Here we find that the two sample t-test does not reject the (true) null hypothesis that $d_0 = 0$.\n",
    "- This is expected because the ranges of our two datasets are the same, which results in similar means.\n",
    "- However, if we change the ranges of our two datasets, we should expect means which are further apart and therefore a rejection of the null hypothesis."
   ]
  },
  {
   "cell_type": "code",
   "execution_count": 10,
   "metadata": {},
   "outputs": [
    {
     "data": {
      "text/plain": [
       "Two sample t-test (unequal variance)\n",
       "------------------------------------\n",
       "Population details:\n",
       "    parameter of interest:   Mean difference\n",
       "    value under h_0:         0\n",
       "    point estimate:          5.050000000000001\n",
       "    95% confidence interval: (3.2571, 6.8429)\n",
       "\n",
       "Test summary:\n",
       "    outcome with 95% confidence: reject h_0\n",
       "    two-sided p-value:           <1e-6\n",
       "\n",
       "Details:\n",
       "    number of observations:   [100,100]\n",
       "    t-statistic:              5.563188549589401\n",
       "    degrees of freedom:       158.50289394887977\n",
       "    empirical standard error: 0.9077528030885675\n"
      ]
     },
     "execution_count": 10,
     "metadata": {},
     "output_type": "execute_result"
    }
   ],
   "source": [
    "using HypothesisTests\n",
    "\n",
    "random_data_1 = vec(rand(range(0, 25), 1, 100)) #we use vec because the OneSampleTTest requires a vector type\n",
    "random_data_2 = vec(rand(range(0, 15), 1, 100)) #we use vec because the OneSampleTTest requires a vector type\n",
    "\n",
    "UnequalVarianceTTest(random_data_1, random_data_2)"
   ]
  },
  {
   "cell_type": "code",
   "execution_count": null,
   "metadata": {},
   "outputs": [],
   "source": []
  }
 ],
 "metadata": {
  "kernelspec": {
   "display_name": "Julia 1.0.3 (4 threads)",
   "language": "julia",
   "name": "julia-1.0k"
  },
  "language_info": {
   "file_extension": ".jl",
   "mimetype": "application/julia",
   "name": "julia",
   "version": "1.0.3"
  }
 },
 "nbformat": 4,
 "nbformat_minor": 2
}
