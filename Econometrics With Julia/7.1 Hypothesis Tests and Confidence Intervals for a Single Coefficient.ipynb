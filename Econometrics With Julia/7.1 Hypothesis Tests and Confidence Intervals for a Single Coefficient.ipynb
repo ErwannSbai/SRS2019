{
 "cells": [
  {
   "cell_type": "markdown",
   "metadata": {},
   "source": [
    "## 7.1 Hypothesis Tests and Confidence Intervals for a Single Coefficient"
   ]
  },
  {
   "cell_type": "markdown",
   "metadata": {},
   "source": [
    "- We first discuss how to compute standard errors, how to test hypotheses and how to construct confidence intervals for a single regression coefficient $β_j$ in a multiple regression model."
   ]
  },
  {
   "cell_type": "markdown",
   "metadata": {},
   "source": [
    "### Testing the Hypothesis $\\beta_j = \\beta_{j,0}$ Against the Alternative $\\beta_j \\neq \\beta_{j,0}$"
   ]
  },
  {
   "cell_type": "markdown",
   "metadata": {},
   "source": [
    " 1. Compute the standard error of $\\hat{\\beta_j}$\n",
    " 2. Compute the t-statistic,\n",
    "\\begin{equation}\n",
    "t^{act} = \\frac{\\hat{\\beta}_j - \\beta_{j,0}} {SE(\\hat{\\beta_j})}\n",
    "\\end{equation}\n",
    " 3. Compute the p-value, \n",
    "\\begin{equation}\n",
    "p\\text{-value} = 2 \\Phi(-|t^{act}|)\n",
    "\\end{equation}\n",
    "- Reject the hypothesis at the 5% significance level if the p-value is less than 0.05 or, equivalently, if $|t^{act}| > 1.96$. \n"
   ]
  },
  {
   "cell_type": "markdown",
   "metadata": {},
   "source": [
    "### Confidence Intervals for a Single Coefficient in Multiple Regression"
   ]
  },
  {
   "cell_type": "markdown",
   "metadata": {},
   "source": [
    "- A 95% two-sided confidence interval for the coefficient $β_j$ is an interval that contains the true value of $β_j$ with a 95% probability; that is, it contains the true value of $β_j$ in 95% of all repeated samples. \n",
    "- Equivalently, it is the set of values of $β_j$ that cannot be rejected by a 5% two-sided hypothesis test. \n",
    "- When the sample size is large, the 95% confidence interval for $β_j$ is\n",
    "\n",
    "\\begin{equation}\n",
    "\\left[\\hat{\\beta_j}- 1.96 \\times SE(\\hat{\\beta}_j), \\hat{\\beta_j} + 1.96 \\times SE(\\hat{\\beta_j})\\right].\n",
    "\\end{equation}"
   ]
  },
  {
   "cell_type": "code",
   "execution_count": null,
   "metadata": {},
   "outputs": [],
   "source": []
  }
 ],
 "metadata": {
  "kernelspec": {
   "display_name": "Julia 1.0.3 (4 threads)",
   "language": "julia",
   "name": "julia-1.0k"
  },
  "language_info": {
   "file_extension": ".jl",
   "mimetype": "application/julia",
   "name": "julia",
   "version": "1.0.3"
  }
 },
 "nbformat": 4,
 "nbformat_minor": 2
}
