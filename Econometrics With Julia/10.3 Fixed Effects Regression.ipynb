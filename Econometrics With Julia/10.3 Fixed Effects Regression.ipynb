{
 "cells": [
  {
   "cell_type": "markdown",
   "metadata": {},
   "source": [
    "## 10.3 Fixed Effects Regression"
   ]
  },
  {
   "cell_type": "markdown",
   "metadata": {},
   "source": [
    "- Consider the panel regression model $Y_{it} = \\beta_0 + \\beta_1 X_{it} + \\beta_2 Z_i +  u_{it}$ where the $Z_i$ are unobserved time-invariant heterogeneities across the entities $i=1,…,n$.\n",
    "- We aim to estimate $β_1$, the effect on $Y_i$ of a change in $X_i$ holding constant $Z_i$.\n",
    "- Letting $α_i=β_0+β_2Z_i$ we obtain the model $Y_{it} = \\alpha_i + \\beta_1 X_{it} + u_{it}$.\n",
    "- The $α_i$ are entity-specific intercepts that capture heterogeneities across entities. \n",
    "- Having individual specific intercepts $α_i$, $i=1,…,n$, where each of these can be understood as the fixed effect of entity $i$, this model is called the fixed effects model.\n",
    "- The variation in the $α_i$, $i=1,…,n$ comes from the $Z_i$.\n",
    "- The fixed effects model could also be rewritten as a regression model containing $n−1$ dummy regressors and a constant:\n",
    "\n",
    "\\begin{align}\n",
    "Y_{it} = \\beta_0 + \\beta_1 X_{it} + \\gamma_2 D2_i + \\gamma_3 D3_i + \\cdots + \\gamma_n Dn_i + u_{it}\n",
    "\\end{align}"
   ]
  },
  {
   "cell_type": "markdown",
   "metadata": {},
   "source": [
    "### Estimation and Inference"
   ]
  },
  {
   "cell_type": "markdown",
   "metadata": {},
   "source": [
    "- Software packages use a so-called “entity-demeaned” OLS algorithm which is computationally more efficient than estimating regression models with $k+n$ regressors.\n",
    "- Taking averages on both sides of $Y_{it} = \\alpha_i + \\beta_1 X_{it} + u_{it}$ we obtain \n",
    "\n",
    "\\begin{align*}\n",
    "\\frac{1}{n} \\sum_{i=1}^n Y_{it} =& \\, \\beta_1 \\frac{1}{n} \\sum_{i=1}^n X_{it} + \\frac{1}{n} \\sum_{i=1}^n a_i + \\frac{1}{n} \\sum_{i=1}^n u_{it} \\\\\n",
    "\\overline{Y} =& \\, \\beta_1 \\overline{X}_i + \\alpha_i + \\overline{u}_i. \n",
    "\\end{align*}\n",
    "\n",
    "- Subtraction from $Y_{it} = \\alpha_i + \\beta_1 X_{it} + u_{it}$ yields \n",
    "\n",
    "\\begin{align}\n",
    "\\begin{split}\n",
    "Y_{it} - \\overline{Y}_i =& \\, \\beta_1(X_{it}-\\overline{X}_i) + (u_{it} - \\overline{u}_i) \\\\\n",
    "\\overset{\\sim}{Y}_{it} =& \\, \\beta_1 \\overset{\\sim}{X}_{it} + \\overset{\\sim}{u}_{it}. \n",
    "\\end{split}\n",
    "\\end{align}\n",
    "\n",
    "- We conclude that there are two ways of estimating $β_1$ in the fixed effects regression:\n",
    " 1. OLS of the dummy regression model\n",
    " 2. OLS using the entity demeaned data\n",
    " \n",
    " \n",
    "- Provided the fixed effects regression assumptions stated in Key Concept 10.3 hold, the sampling distribution of the OLS estimator in the fixed effects regression model is normal in large samples.\n",
    "- The variance of the estimates can be estimated and we can compute standard errors,  t-statistics and confidence intervals for coefficients. "
   ]
  },
  {
   "cell_type": "markdown",
   "metadata": {},
   "source": [
    "### Application to Traffic Deaths"
   ]
  },
  {
   "cell_type": "markdown",
   "metadata": {},
   "source": [
    "- The simple fixed effects model for estimation of the relation between traffic fatality rates and the beer taxes is \n",
    "\n",
    "\\begin{align}\n",
    "FatalityRate_{it} = \\beta_1 BeerTax_{it} + StateFixedEffects + u_{it}\n",
    "\\end{align}\n",
    "\n",
    "- We can include fixed effects in our model by simply adding the fixed effect variables using fe()."
   ]
  },
  {
   "cell_type": "code",
   "execution_count": 2,
   "metadata": {},
   "outputs": [
    {
     "ename": "MethodError",
     "evalue": "MethodError: no method matching length(::Expr)\nClosest candidates are:\n  length(!Matched::Core.SimpleVector) at essentials.jl:582\n  length(!Matched::Base.MethodList) at reflection.jl:732\n  length(!Matched::Core.MethodTable) at reflection.jl:806\n  ...",
     "output_type": "error",
     "traceback": [
      "MethodError: no method matching length(::Expr)\nClosest candidates are:\n  length(!Matched::Core.SimpleVector) at essentials.jl:582\n  length(!Matched::Base.MethodList) at reflection.jl:732\n  length(!Matched::Core.MethodTable) at reflection.jl:806\n  ...",
      "",
      "Stacktrace:",
      " [1] union!(::Set{Any}, ::Expr) at ./abstractset.jl:75",
      " [2] Set{Any}(::Expr) at ./set.jl:10",
      " [3] _Set(::Expr, ::Base.HasEltype) at ./set.jl:23",
      " [4] Set(::Expr) at ./set.jl:21",
      " [5] collect_to!(::Array{Set{Any},1}, ::Base.Generator{Array{Any,1},Type{Set}}, ::Int64, ::Int64) at ./generator.jl:47",
      " [6] collect_to_with_first!(::Array{Set{Any},1}, ::Set{Any}, ::Base.Generator{Array{Any,1},Type{Set}}, ::Int64) at ./array.jl:643",
      " [7] collect(::Base.Generator{Array{Any,1},Type{Set}}) at ./array.jl:624",
      " [8] StatsModels.Terms(::Formula) at /home/jrun/.julia/packages/StatsModels/pBxdt/src/formula.jl:340",
      " [9] #reg#30(::Nothing, ::Expr, ::Nothing, ::Nothing, ::Int64, ::Dict{Any,Any}, ::Float64, ::Int64, ::Bool, ::Symbol, ::typeof(reg), ::DataFrame, ::Formula) at /mnt/juliabox/.julia/packages/FixedEffectModels/IiUHE/src/reg.jl:64",
      " [10] reg(::DataFrame, ::Formula) at /mnt/juliabox/.julia/packages/FixedEffectModels/IiUHE/src/reg.jl:48",
      " [11] #reg#29(::Base.Iterators.Pairs{Union{},Union{},Tuple{},NamedTuple{(),Tuple{}}}, ::Function, ::DataFrame, ::Model) at /mnt/juliabox/.julia/packages/FixedEffectModels/IiUHE/src/reg.jl:36",
      " [12] reg(::DataFrame, ::Model) at /mnt/juliabox/.julia/packages/FixedEffectModels/IiUHE/src/reg.jl:36",
      " [13] top-level scope at In[2]:14"
     ]
    }
   ],
   "source": [
    "using CSV\n",
    "using DataFrames\n",
    "using Query\n",
    "using Plots\n",
    "using FixedEffects\n",
    "using FixedEffectModels\n",
    "using CategoricalArrays\n",
    "using LinearAlgebra\n",
    "\n",
    "fatalities = CSV.read(\"/mnt/juliabox/Econometrics With Julia/Datasets/fatalities.csv\")\n",
    "\n",
    "fatalities.fatality_rate = fatalities.fatal ./ fatalities.pop * 10000\n",
    "fatalities.state = categorical(fatalities.state)\n",
    "\n",
    "fatalities_model = reg(\n",
    "                        fatalities,\n",
    "                        @model(fatality_rate ~ beertax + fe(state)),\n",
    ")\n",
    "\n",
    "println(fatalities_model)\n",
    "\n",
    "x = fatalities.beertax\n",
    "y = fatalities.fatality_rate\n",
    "\n",
    "p1 = plot( #assign a plot object to the variable p1 using the following attributes\n",
    "    x, #x series\n",
    "    y, #y series\n",
    "    st = :scatter, #series type\n",
    "    title = \"Traffic Fatality Rates and Beer Taxes from 1982-1988\", #plot title\n",
    "    label = \"Observation\", #legend labels\n",
    "    xlabel = \"Beer tax (in 1988 dollars)\", #x axis label\n",
    "    ylabel = \"Fatality rate (fatalities per 10000)\", #y axis label\n",
    "    ylims = (0, 5), #y axis limits\n",
    "    yticks = 0:0.5:5, #y axis tick range\n",
    "    ms = 4, #marker size\n",
    "    mc = :blue #marker color\n",
    ")\n",
    "\n",
    "y_prediction_diff(x) = dot(coef(fatalities_model), [1, x])\n",
    "\n",
    "x = [minimum(fatalities.beertax), maximum(fatalities.beertax)]\n",
    "y = y_prediction_diff.(x)\n",
    "\n",
    "plot!(\n",
    "    p1,\n",
    "    x,\n",
    "    y,\n",
    "    st = :line,\n",
    "    label = \"OLS Difference\"\n",
    ")\n",
    "\n",
    "display(p1)"
   ]
  },
  {
   "cell_type": "markdown",
   "metadata": {},
   "source": [
    "- The estimated coefficient is −0.6559\n",
    "\n",
    "\\begin{align}\n",
    "\\widehat{FatalityRate} = -\\underset{(0.29)}{0.66} \\times BeerTax + StateFixedEffects\n",
    "\\end{align}\n",
    " "
   ]
  },
  {
   "cell_type": "code",
   "execution_count": null,
   "metadata": {},
   "outputs": [],
   "source": []
  }
 ],
 "metadata": {
  "kernelspec": {
   "display_name": "Julia 1.0.3 (4 threads)",
   "language": "julia",
   "name": "julia-1.0k"
  },
  "language_info": {
   "file_extension": ".jl",
   "mimetype": "application/julia",
   "name": "julia",
   "version": "1.0.3"
  }
 },
 "nbformat": 4,
 "nbformat_minor": 2
}
