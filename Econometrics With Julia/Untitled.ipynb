{
 "cells": [
  {
   "cell_type": "code",
   "execution_count": 9,
   "metadata": {},
   "outputs": [
    {
     "ename": "MethodError",
     "evalue": "MethodError: no method matching length(::DataValues.DataValue{Float64})\nClosest candidates are:\n  length(!Matched::Core.SimpleVector) at essentials.jl:582\n  length(!Matched::Base.MethodList) at reflection.jl:732\n  length(!Matched::Core.MethodTable) at reflection.jl:806\n  ...",
     "output_type": "error",
     "traceback": [
      "MethodError: no method matching length(::DataValues.DataValue{Float64})\nClosest candidates are:\n  length(!Matched::Core.SimpleVector) at essentials.jl:582\n  length(!Matched::Base.MethodList) at reflection.jl:732\n  length(!Matched::Core.MethodTable) at reflection.jl:806\n  ...",
      "",
      "Stacktrace:",
      " [1] _similar_for(::UnitRange{Int64}, ::Type, ::DataValues.DataValue{Float64}, ::Base.HasLength) at ./array.jl:532",
      " [2] _collect(::UnitRange{Int64}, ::DataValues.DataValue{Float64}, ::Base.HasEltype, ::Base.HasLength) at ./array.jl:563",
      " [3] collect(::DataValues.DataValue{Float64}) at ./array.jl:557",
      " [4] broadcastable(::DataValues.DataValue{Float64}) at ./broadcast.jl:617",
      " [5] broadcasted at ./broadcast.jl:1166 [inlined]",
      " [6] (::getfield(Statistics, Symbol(\"##5#6\")){DataValues.DataValue{Float64}})(::DataValues.DataValue{Float64}) at /buildworker/worker/package_linux64/build/usr/share/julia/stdlib/v1.0/Statistics/src/Statistics.jl:189",
      " [7] mapreduce_first(::getfield(Statistics, Symbol(\"##5#6\")){DataValues.DataValue{Float64}}, ::Function, ::DataValues.DataValue{Float64}) at ./reduce.jl:295",
      " [8] mapfoldl_impl(::Function, ::Function, ::NamedTuple{(),Tuple{}}, ::Grouping{DataValues.DataValue{Int64},DataValues.DataValue{Float64}}) at ./reduce.jl:58",
      " [9] #mapfoldl#170 at ./reduce.jl:70 [inlined]",
      " [10] mapfoldl at ./reduce.jl:70 [inlined]",
      " [11] _mapreduce at ./reduce.jl:324 [inlined]",
      " [12] #mapreduce#7(::Bool, ::Function, ::Function, ::Function, ::Grouping{DataValues.DataValue{Int64},DataValues.DataValue{Float64}}) at /home/jrun/.julia/packages/DataValues/74mqv/src/array/reduce.jl:113",
      " [13] mapreduce(::Function, ::Function, ::Grouping{DataValues.DataValue{Int64},DataValues.DataValue{Float64}}) at /home/jrun/.julia/packages/DataValues/74mqv/src/array/reduce.jl:110",
      " [14] centralize_sumabs2(::Grouping{DataValues.DataValue{Int64},DataValues.DataValue{Float64}}, ::DataValues.DataValue{Float64}) at /buildworker/worker/package_linux64/build/usr/share/julia/stdlib/v1.0/Statistics/src/Statistics.jl:190",
      " [15] _varm at /buildworker/worker/package_linux64/build/usr/share/julia/stdlib/v1.0/Statistics/src/Statistics.jl:269 [inlined]",
      " [16] #varm#11 at /buildworker/worker/package_linux64/build/usr/share/julia/stdlib/v1.0/Statistics/src/Statistics.jl:264 [inlined]",
      " [17] #varm at ./none:0 [inlined]",
      " [18] _var(::Grouping{DataValues.DataValue{Int64},DataValues.DataValue{Float64}}, ::Bool, ::Nothing, ::Colon) at /buildworker/worker/package_linux64/build/usr/share/julia/stdlib/v1.0/Statistics/src/Statistics.jl:295",
      " [19] #var#12(::Bool, ::Nothing, ::Function, ::Function, ::Grouping{DataValues.DataValue{Int64},DataValues.DataValue{Float64}}) at /buildworker/worker/package_linux64/build/usr/share/julia/stdlib/v1.0/Statistics/src/Statistics.jl:290",
      " [20] (::getfield(Statistics, Symbol(\"#kw##var\")))(::NamedTuple{(:corrected, :mean),Tuple{Bool,Nothing}}, ::typeof(var), ::Grouping{DataValues.DataValue{Int64},DataValues.DataValue{Float64}}) at ./none:0",
      " [21] _std(::Grouping{DataValues.DataValue{Int64},DataValues.DataValue{Float64}}, ::Bool, ::Nothing, ::Colon) at /buildworker/worker/package_linux64/build/usr/share/julia/stdlib/v1.0/Statistics/src/Statistics.jl:361",
      " [22] #std#15(::Bool, ::Nothing, ::Function, ::Function, ::Grouping{DataValues.DataValue{Int64},DataValues.DataValue{Float64}}) at /buildworker/worker/package_linux64/build/usr/share/julia/stdlib/v1.0/Statistics/src/Statistics.jl:356",
      " [23] std(::Grouping{DataValues.DataValue{Int64},DataValues.DataValue{Float64}}) at /buildworker/worker/package_linux64/build/usr/share/julia/stdlib/v1.0/Statistics/src/Statistics.jl:356",
      " [24] top-level scope at In[9]:33"
     ]
    }
   ],
   "source": [
    "using CSV\n",
    "using DataFrames\n",
    "using Query\n",
    "using Statistics\n",
    "using CategoricalArrays\n",
    "\n",
    "data = CSV.read(\"/mnt/juliabox/Econometrics With Julia/Datasets/cps_data.csv\")\n",
    "\n",
    "male_data = @from i in data begin #from Query.jl; use a LINQ style query to access each row 'i' in the DataFrame 'data'\n",
    "    @where i.a_sex == 1 #filter each row 'i' such that the variable 'a_sex' is equal to 1\n",
    "    @select i #select all columns from the filtered rows 'i'\n",
    "    @collect DataFrame #return the result as a DataFrame\n",
    "end #end query\n",
    "\n",
    "male_data_by_year = @from i in male_data begin #from Query.jl; use a LINQ style query to access each row 'i' in the DataFrame 'data'\n",
    "    @group i.ahe08 by i.year #filter each row 'i' such that the variable 'a_sex' is equal to 1\n",
    "    @collect #return the result as a DataFrame\n",
    "end #end query\n",
    "\n",
    "female_data = @from i in data begin #from Query.jl; use a LINQ style query to access each row 'i' in the DataFrame 'data'\n",
    "    @where i.a_sex == 2 #filter each row 'i' such that the variable 'a_sex' is equal to 1\n",
    "    @select i #select all columns from the filtered rows 'i'\n",
    "    @collect DataFrame #return the result as a DataFrame\n",
    "end #end query\n",
    "\n",
    "female_data_by_year = @from i in female_data begin #from Query.jl; use a LINQ style query to access each row 'i' in the DataFrame 'data'\n",
    "    @group i.ahe08 by i.year #filter each row 'i' such that the variable 'a_sex' is equal to 1\n",
    "    @collect #return the result as a DataFrame\n",
    "end #end query\n",
    "\n",
    "results = DataFrame(Year = [\"1992\", \"1996\", \"2000\", \"2004\", \"2008\"])\n",
    "results.Y_bar_m = [mean(male_data_by_year[1]), mean(male_data_by_year[2]), mean(male_data_by_year[3]), mean(male_data_by_year[4]), mean(male_data_by_year[5])]\n",
    "results.s_m = [std(male_data_by_year[1]), std(male_data_by_year[2]), std(male_data_by_year[3]), std(male_data_by_year[4]), std(male_data_by_year[5])]\n",
    "results.n_m = [length(male_data_by_year[1]), length(male_data_by_year[2]), length(male_data_by_year[3]), length(male_data_by_year[4]), length(male_data_by_year[5])]\n",
    "results.Y_bar_f = [mean(female_data_by_year[1]), mean(female_data_by_year[2]), mean(female_data_by_year[3]), mean(female_data_by_year[4]), mean(female_data_by_year[5])]\n",
    "results.s_f = [std(female_data_by_year[1]), std(female_data_by_year[2]), std(female_data_by_year[3]), std(female_data_by_year[4]), std(female_data_by_year[5])]\n",
    "results.n_f = [length(female_data_by_year[1]), length(female_data_by_year[2]), length(female_data_by_year[3]), length(female_data_by_year[4]), length(female_data_by_year[5])]\n",
    "results.gap = results.Y_bar_m .- results.Y_bar_f\n",
    "results.gap_se = sqrt.(results.s_m .^ 2 ./ results.n_m .+ results.s_f .^ 2 ./ results.n_f)\n",
    "results.gap_ci_l = results.gap .- 1.96 .* results.gap_se\n",
    "results.gap_ci_u = results.gap .+ 1.96 .* results.gap_se\n",
    "\n",
    "println(results)\n"
   ]
  },
  {
   "cell_type": "code",
   "execution_count": null,
   "metadata": {},
   "outputs": [],
   "source": []
  }
 ],
 "metadata": {
  "kernelspec": {
   "display_name": "Julia 1.0.3 (4 threads)",
   "language": "julia",
   "name": "julia-1.0k"
  },
  "language_info": {
   "file_extension": ".jl",
   "mimetype": "application/julia",
   "name": "julia",
   "version": "1.0.3"
  }
 },
 "nbformat": 4,
 "nbformat_minor": 2
}
