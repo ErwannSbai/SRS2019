{
 "cells": [
  {
   "cell_type": "markdown",
   "metadata": {},
   "source": [
    "## 7.5 Model Specification for Multiple Regression"
   ]
  },
  {
   "cell_type": "markdown",
   "metadata": {},
   "source": [
    "- Choosing a regression specification, i.e., selecting the variables to be included in a regression model, is a difficult task. \n",
    "- However, there are some guidelines on how to proceed; the goal is clear: obtaining an unbiased and precise estimate of the causal effect of interest. \n",
    "- As a starting point, think about omitted variables, that is, to avoid possible bias by using suitable control variables.\n",
    "- A second step could be to compare different specifications by measures of fit. However, as we shall see one should not rely solely on $\\bar{R}^2$."
   ]
  },
  {
   "cell_type": "markdown",
   "metadata": {},
   "source": [
    "### Omitted Variable Bias in Multiple Regression"
   ]
  },
  {
   "cell_type": "markdown",
   "metadata": {},
   "source": [
    "- Omitted variable bias is the bias in the OLS estimator that arises when regressors correlate with an omitted variable. For omitted variable bias to arise, two things must be true:\n",
    " 1. At least one of the included regressors must be correlated with the omitted variable.\n",
    " 2. The omitted variable must be a determinant of the dependent variable, Y."
   ]
  },
  {
   "cell_type": "markdown",
   "metadata": {},
   "source": [
    "### $R^2$ and $\\bar{R}^2$: what they tell you — and what they do not"
   ]
  },
  {
   "cell_type": "markdown",
   "metadata": {},
   "source": [
    "- The $R^2$ and $\\bar{R}^2$ tell you whether the regressors are good at explaining the variation of the independent variable in the sample. \n",
    "- If the $R^2$ (or $\\bar{R}^2$) is nearly 1, then the regressors produce a good prediction of the dependent variable in that sample, in the sense that the variance of OLS residuals is small compared to the variance of the dependent variable. \n",
    "- If the $R^2$ (or $\\bar{R}^2$) is nearly 0, the opposite is true.\n",
    "- The $R^2$ and $\\bar{R}^2$ do not tell you whether:\n",
    " - An included variable is statistically significant.\n",
    " - The regressors are the true cause of the movements in the dependent variable.\n",
    " - There is omitted variable bias.\n",
    " - You have chosen the most appropriate set of regressors."
   ]
  },
  {
   "cell_type": "code",
   "execution_count": null,
   "metadata": {},
   "outputs": [],
   "source": []
  }
 ],
 "metadata": {
  "kernelspec": {
   "display_name": "Julia 1.0.3 (4 threads)",
   "language": "julia",
   "name": "julia-1.0k"
  },
  "language_info": {
   "file_extension": ".jl",
   "mimetype": "application/julia",
   "name": "julia",
   "version": "1.0.3"
  }
 },
 "nbformat": 4,
 "nbformat_minor": 2
}
