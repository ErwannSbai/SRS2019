{
 "cells": [
  {
   "cell_type": "markdown",
   "metadata": {},
   "source": [
    "## 6.1 Omitted Variable Bias"
   ]
  },
  {
   "cell_type": "markdown",
   "metadata": {},
   "source": [
    "- Our previous analyses of the relationship between test score and class size were flawed in that we ignored other determinants of the dependent variable (test score) that correlate with the regressor (class size).\n",
    "- Remember that influences on the dependent variable which are not captured by the model are collected in the error term, which we so far assumed to be uncorrelated with the regressor. \n",
    "- However, this assumption is violated if we exclude determinants of the dependent variable which vary with the regressor. \n",
    "- This might induce an estimation bias, i.e., the mean of the OLS estimator’s sampling distribution is no longer equal to the true mean. \n",
    "- In our example we wrongly estimate the causal effect on test scores of a unit change in the student-teacher ratio on average, resulting in omitted variable bias (OVB).\n",
    "- Omitted variable bias is the bias in the OLS estimator that arises when the regressor, $X$, is correlated with an omitted variable. \n",
    "- For omitted variable bias to occur, two conditions must be fulfilled:\n",
    " 1. $X$ is correlated with the omitted variable.\n",
    " 2. The omitted variable is a determinant of the dependent variable $Y$.\n",
    "- Together, 1. and 2. result in a violation of the first OLS assumption $E(u_i\\vert X_i) = 0$."
   ]
  },
  {
   "cell_type": "markdown",
   "metadata": {},
   "source": [
    "- In the example of test score and class size, it is easy to come up with variables that may cause such a bias, if omitted from the model. \n",
    "- A highly relevant variable could be the percentage of English learners in the school district: it is plausible that the ability to speak, read and write English is an important factor for successful learning.\n",
    "- Therefore, students that are still learning English are likely to perform worse in tests than native speakers. \n",
    "- Also, it is conceivable that the share of English learning students is bigger in school districts where class sizes are relatively large: think of poor urban districts where a lot of immigrants live.\n",
    "- As such, the OLS estimate of $\\hat\\beta_1$ suggests that small classes improve test scores, but it is likely that the effect of small classes is overestimated as it captures the effect of having fewer English learners as well."
   ]
  },
  {
   "cell_type": "code",
   "execution_count": 3,
   "metadata": {},
   "outputs": [
    {
     "data": {
      "text/plain": [
       "                                 Linear Model                                 \n",
       "===============================================================================\n",
       "Number of obs:                     420   Degrees of freedom:                  2\n",
       "R2:                              0.051   R2 Adjusted:                     0.049\n",
       "F Statistic:                   22.5751   p-value:                         0.000\n",
       "                       Estimate Std.Error  t value Pr(>|t|) Lower 95% Upper 95%\n",
       "student_teacher_ratio  -2.27981  0.479826 -4.75133    0.000  -3.22298  -1.33664\n",
       "(Intercept)             698.933   9.46749  73.8245    0.000   680.323   717.543\n"
      ]
     },
     "execution_count": 3,
     "metadata": {},
     "output_type": "execute_result"
    },
    {
     "name": "stdout",
     "output_type": "stream",
     "text": [
      "===============================================================================\n",
      "-------------------------------------------------------------------------------\n",
      "===============================================================================\n"
     ]
    }
   ],
   "source": [
    "using FixedEffects #FixedEffectModels requires FixedEffects as a dependency\n",
    "using FixedEffectModels #we use FixedEffectModels to create regression models\n",
    "using CSV #we use the CSV package to load the data\n",
    "using DataFrames #we use the DataFrames package as the data is stored as an object of type \"DataFrame\"\n",
    "using Plots #we use the Plots package for generating plots\n",
    "\n",
    "data = CSV.read(\"/mnt/juliabox/Econometrics With Julia/Datasets/CASchools.csv\") #load the data into the workspace and store it in the variable \"data\"\n",
    "\n",
    "data.student_teacher_ratio = data.students ./ data.teachers #add a new column \"student_teacher_ratio\" to the data, ./ is used to broadcast the division operator between arrays (or in this case, columns)\n",
    "data.score = (data.read .+ data.math) ./ 2 #add a new column \"score\" to the data\n",
    "\n",
    "reg_mod = reg( #initialise a FixedEffectModel and define it as reg_mod\n",
    "                        data, #pass the DataFrame 'data' as the dataset to be used in reg_mod\n",
    "                        @model(score ~ student_teacher_ratio) #pass the regression formula consisting of the dependent variable 'score' and the exogenous variable 'student_teacher_ratio'\n",
    ")"
   ]
  },
  {
   "cell_type": "markdown",
   "metadata": {},
   "source": [
    "- When we add the percentage of English learning students $(PctEL)$ to our regression model, the coefficient $\\hat\\beta_2$ explains the effect of $PctEL$ on the dependent variable.\n",
    "- We see that the regressor $STR$ previously had a negative bias as the coefficient $\\hat\\beta_1$ increases from before.\n",
    "\n",
    "\\begin{equation}\n",
    "TestScore = \\beta_0 + \\beta_1 \\times STR + \\beta_2 \\times PctEL\n",
    "\\end{equation}"
   ]
  },
  {
   "cell_type": "code",
   "execution_count": 2,
   "metadata": {},
   "outputs": [
    {
     "data": {
      "text/plain": [
       "                                  Linear Model                                  \n",
       "================================================================================\n",
       "Number of obs:                      420  Degrees of freedom:                   3\n",
       "R2:                               0.426  R2 Adjusted:                      0.424\n",
       "F Statistic:                    8.69304  p-value:                          0.000\n",
       "                        Estimate Std.Error  t value Pr(>|t|) Lower 95% Upper 95%\n",
       "student_teacher_ratio    -1.1013  0.380278 -2.89603    0.004   -1.8488 -0.353794\n",
       "english                -0.649777 0.0393425 -16.5159    0.000 -0.727111 -0.572442\n",
       "(Intercept)              686.032   7.41131  92.5656    0.000   671.464     700.6\n"
      ]
     },
     "execution_count": 2,
     "metadata": {},
     "output_type": "execute_result"
    },
    {
     "name": "stdout",
     "output_type": "stream",
     "text": [
      "================================================================================\n",
      "--------------------------------------------------------------------------------\n",
      "================================================================================\n"
     ]
    }
   ],
   "source": [
    "using FixedEffects #FixedEffectModels requires FixedEffects as a dependency\n",
    "using FixedEffectModels #we use FixedEffectModels to create regression models\n",
    "using CSV #we use the CSV package to load the data\n",
    "using DataFrames #we use the DataFrames package as the data is stored as an object of type \"DataFrame\"\n",
    "using Plots #we use the Plots package for generating plots\n",
    "\n",
    "data = CSV.read(\"/mnt/juliabox/Econometrics With Julia/Datasets/CASchools.csv\") #load the data into the workspace and store it in the variable \"data\"\n",
    "\n",
    "data.student_teacher_ratio = data.students ./ data.teachers #add a new column \"student_teacher_ratio\" to the data, ./ is used to broadcast the division operator between arrays (or in this case, columns)\n",
    "data.score = (data.read .+ data.math) ./ 2 #add a new column \"score\" to the data\n",
    "\n",
    "reg_mod = reg( #initialise a FixedEffectModel and define it as reg_mod\n",
    "                        data, #pass the DataFrame 'data' as the dataset to be used in reg_mod\n",
    "                        @model(score ~ student_teacher_ratio + english) #pass the regression formula consisting of the dependent variable 'score' and the exogenous variable 'student_teacher_ratio'\n",
    ")"
   ]
  },
  {
   "cell_type": "code",
   "execution_count": null,
   "metadata": {},
   "outputs": [],
   "source": []
  }
 ],
 "metadata": {
  "kernelspec": {
   "display_name": "Julia 1.0.3 (4 threads)",
   "language": "julia",
   "name": "julia-1.0k"
  },
  "language_info": {
   "file_extension": ".jl",
   "mimetype": "application/julia",
   "name": "julia",
   "version": "1.0.3"
  }
 },
 "nbformat": 4,
 "nbformat_minor": 2
}
