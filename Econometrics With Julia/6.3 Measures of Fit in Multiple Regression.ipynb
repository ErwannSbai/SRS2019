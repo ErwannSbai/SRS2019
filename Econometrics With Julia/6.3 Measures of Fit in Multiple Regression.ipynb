{
 "cells": [
  {
   "cell_type": "markdown",
   "metadata": {},
   "source": [
    "## 6.3 Measures of Fit in Multiple Regression"
   ]
  },
  {
   "cell_type": "markdown",
   "metadata": {},
   "source": [
    "- In multiple regression, common summary statistics are $SER$, $R^2$ and the adjusted $R^2$.\n",
    "- For multiple regression models the $SER$ is computed as $SER = s_{\\hat u} = \\sqrt{s_{\\hat u}^2}$, where the denominator of the premultiplied factor in $s_{\\hat u}^2$ is modified to accommodate for additional regressors. \n",
    "- Thus, with $k$ denoting the number of regressors excluding the intercept\n",
    "\n",
    "\\begin{equation}\n",
    "s_{\\hat u}^2 = \\frac{1}{n-k-1} \\, SSR\n",
    "\\end{equation}\n",
    "\n",
    "- Although our regression models compute $R^2$ for multiple regressions, it is no reliable measure for multiple regression models.\n",
    "- This is due to $R^2$  increasing whenever an additional regressor is added to the model. \n",
    "- Adding a regressor decreases the $SSR$ — at least unless the respective estimated coefficient is exactly zero which practically never happens.\n",
    "- The adjusted $R^2$, $\\bar{R}^2$, takes this into consideration by “punishing” the addition of regressors using a correction factor.\n",
    "\n",
    "\\begin{equation}\n",
    "\\bar{R}^2 = 1-\\frac{n-1}{n-k-1} \\, \\frac{SSR}{TSS}\n",
    "\\end{equation}\n",
    "\n",
    "- In FixedEffectModels, regression models compute both the $\\bar{R}^2$ and the $R^2$ by default, thereby leaving the decision which measure to rely on to the user."
   ]
  },
  {
   "cell_type": "code",
   "execution_count": 1,
   "metadata": {},
   "outputs": [
    {
     "name": "stdout",
     "output_type": "stream",
     "text": [
      "================================================================================\n"
     ]
    },
    {
     "data": {
      "text/plain": [
       "                                  Linear Model                                  \n",
       "================================================================================\n",
       "Number of obs:                      420  Degrees of freedom:                   3\n",
       "R2:                               0.426  R2 Adjusted:                      0.424\n",
       "F Statistic:                    8.69304  p-value:                          0.000\n",
       "                        Estimate Std.Error  t value Pr(>|t|) Lower 95% Upper 95%\n",
       "student_teacher_ratio    -1.1013  0.380278 -2.89603    0.004   -1.8488 -0.353794\n",
       "english                -0.649777 0.0393425 -16.5159    0.000 -0.727111 -0.572442\n",
       "(Intercept)              686.032   7.41131  92.5656    0.000   671.464     700.6\n"
      ]
     },
     "execution_count": 1,
     "metadata": {},
     "output_type": "execute_result"
    },
    {
     "name": "stdout",
     "output_type": "stream",
     "text": [
      "--------------------------------------------------------------------------------\n",
      "================================================================================\n"
     ]
    }
   ],
   "source": [
    "using FixedEffects #FixedEffectModels requires FixedEffects as a dependency\n",
    "using FixedEffectModels #we use FixedEffectModels to create regression models\n",
    "using CSV #we use the CSV package to load the data\n",
    "using DataFrames #we use the DataFrames package as the data is stored as an object of type \"DataFrame\"\n",
    "using Plots #we use the Plots package for generating plots\n",
    "\n",
    "data = CSV.read(\"/mnt/juliabox/Econometrics With Julia/Datasets/CASchools.csv\") #load the data into the workspace and store it in the variable \"data\"\n",
    "\n",
    "data.student_teacher_ratio = data.students ./ data.teachers #add a new column \"student_teacher_ratio\" to the data, ./ is used to broadcast the division operator between arrays (or in this case, columns)\n",
    "data.score = (data.read .+ data.math) ./ 2 #add a new column \"score\" to the data\n",
    "\n",
    "reg_mod = reg( #initialise a FixedEffectModel and define it as reg_mod\n",
    "                        data, #pass the DataFrame 'data' as the dataset to be used in reg_mod\n",
    "                        @model(score ~ student_teacher_ratio + english) #pass the regression formula consisting of the dependent variable 'score' and the exogenous variable 'student_teacher_ratio'\n",
    ")"
   ]
  },
  {
   "cell_type": "markdown",
   "metadata": {},
   "source": [
    "- Looking at the $\\bar{R}^2$ of the multiple regression model above, we can see that the addition of $PctEL$ as a regressor improves the $\\bar{R}^2$. "
   ]
  },
  {
   "cell_type": "code",
   "execution_count": null,
   "metadata": {},
   "outputs": [],
   "source": []
  }
 ],
 "metadata": {
  "kernelspec": {
   "display_name": "Julia 1.0.3 (4 threads)",
   "language": "julia",
   "name": "julia-1.0k"
  },
  "language_info": {
   "file_extension": ".jl",
   "mimetype": "application/julia",
   "name": "julia",
   "version": "1.0.3"
  }
 },
 "nbformat": 4,
 "nbformat_minor": 2
}
