{
 "cells": [
  {
   "cell_type": "markdown",
   "metadata": {},
   "source": [
    "## 10.4 Regression with Time Fixed Effects"
   ]
  },
  {
   "cell_type": "markdown",
   "metadata": {},
   "source": [
    "- Controlling for variables that are constant across entities but vary over time can be done by including time fixed effects. \n",
    "- If there are only time fixed effects, the fixed effects regression model becomes $Y_{it} = \\beta_0 + \\beta_1 X_{it} + \\delta_2 B2_t + \\cdots + \\delta_T BT_t + u_{it}$.\n",
    "- This model eliminates omitted variable bias caused by excluding unobserved variables that evolve over time but are constant across entities.\n",
    "- The entity and time fixed effects model is therefore\n",
    "\n",
    "\\begin{equation}\n",
    "Y_{it} = \\beta_0 + \\beta_1 X_{it} + \\gamma_2 D2_i + \\cdots + \\gamma_n DT_i + \\delta_2 B2_t + \\cdots + \\delta_T BT_t + u_{it}\n",
    "\\end{equation}\n",
    "\n",
    "- The combined model allows to eliminate bias from unobservables that change over time but are constant over entities and it controls for factors that differ across entities but are constant over time.\n",
    "- The following code chunk shows how to estimate the combined entity and time fixed effects model of the relation between fatalities and beer tax,\n",
    "\n",
    "\\begin{equation}\n",
    "FatalityRate_{it} = \\beta_1 BeerTax_{it} + StateEffects + TimeFixedEffects + u_{it}\n",
    "\\end{equation}\n",
    "\n",
    "- Like with the state fixed effects, we add the time fixed effects with the model's time variable encapsulated in fe()."
   ]
  },
  {
   "cell_type": "code",
   "execution_count": 1,
   "metadata": {},
   "outputs": [
    {
     "ename": "MethodError",
     "evalue": "MethodError: no method matching length(::Expr)\nClosest candidates are:\n  length(!Matched::Core.SimpleVector) at essentials.jl:582\n  length(!Matched::Base.MethodList) at reflection.jl:732\n  length(!Matched::Core.MethodTable) at reflection.jl:806\n  ...",
     "output_type": "error",
     "traceback": [
      "MethodError: no method matching length(::Expr)\nClosest candidates are:\n  length(!Matched::Core.SimpleVector) at essentials.jl:582\n  length(!Matched::Base.MethodList) at reflection.jl:732\n  length(!Matched::Core.MethodTable) at reflection.jl:806\n  ...",
      "",
      "Stacktrace:",
      " [1] union!(::Set{Any}, ::Expr) at ./abstractset.jl:75",
      " [2] Set{Any}(::Expr) at ./set.jl:10",
      " [3] _Set(::Expr, ::Base.HasEltype) at ./set.jl:23",
      " [4] Set(::Expr) at ./set.jl:21",
      " [5] collect_to!(::Array{Set{Any},1}, ::Base.Generator{Array{Any,1},Type{Set}}, ::Int64, ::Int64) at ./generator.jl:47",
      " [6] collect_to_with_first!(::Array{Set{Any},1}, ::Set{Any}, ::Base.Generator{Array{Any,1},Type{Set}}, ::Int64) at ./array.jl:643",
      " [7] collect(::Base.Generator{Array{Any,1},Type{Set}}) at ./array.jl:624",
      " [8] StatsModels.Terms(::Formula) at /home/jrun/.julia/packages/StatsModels/pBxdt/src/formula.jl:340",
      " [9] #reg#30(::Nothing, ::Expr, ::Nothing, ::Nothing, ::Int64, ::Dict{Any,Any}, ::Float64, ::Int64, ::Bool, ::Symbol, ::typeof(reg), ::DataFrame, ::Formula) at /mnt/juliabox/.julia/packages/FixedEffectModels/IiUHE/src/reg.jl:64",
      " [10] reg(::DataFrame, ::Formula) at /mnt/juliabox/.julia/packages/FixedEffectModels/IiUHE/src/reg.jl:48",
      " [11] top-level scope at In[1]:14"
     ]
    }
   ],
   "source": [
    "using CSV\n",
    "using DataFrames\n",
    "using Query\n",
    "using Plots\n",
    "using FixedEffects\n",
    "using FixedEffectModels\n",
    "using CategoricalArrays\n",
    "using LinearAlgebra\n",
    "\n",
    "fatalities = CSV.read(\"/mnt/juliabox/Econometrics With Julia/Datasets/fatalities.csv\")\n",
    "\n",
    "fatalities.fatality_rate = fatalities.fatal ./ fatalities.pop * 10000\n",
    "fatalities.state = categorical(fatalities.state)\n",
    "\n",
    "fatalities_model = reg(\n",
    "                        fatalities,\n",
    "                        @formula(fatality_rate ~ beertax + fe(state) + fe(year))                        \n",
    ")\n",
    "\n",
    "println(fatalities_model)\n",
    "\n",
    "x = fatalities.beertax\n",
    "y = fatalities.fatality_rate\n",
    "\n",
    "p1 = plot( #assign a plot object to the variable p1 using the following attributes\n",
    "    x, #x series\n",
    "    y, #y series\n",
    "    st = :scatter, #series type\n",
    "    title = \"Traffic Fatality Rates and Beer Taxes from 1982-1988\", #plot title\n",
    "    label = \"Observation\", #legend labels\n",
    "    xlabel = \"Beer tax (in 1988 dollars)\", #x axis label\n",
    "    ylabel = \"Fatality rate (fatalities per 10000)\", #y axis label\n",
    "    ylims = (0, 5), #y axis limits\n",
    "    yticks = 0:0.5:5, #y axis tick range\n",
    "    ms = 4, #marker size\n",
    "    mc = :blue #marker color\n",
    ")\n",
    "\n",
    "y_prediction_diff(x) = dot(coef(fatalities_model), [1, x])\n",
    "\n",
    "x = [minimum(fatalities.beertax), maximum(fatalities.beertax)]\n",
    "y = y_prediction_diff.(x)\n",
    "\n",
    "plot!(\n",
    "    p1,\n",
    "    x,\n",
    "    y,\n",
    "    st = :line,\n",
    "    label = \"OLS Difference\"\n",
    ")\n",
    "\n",
    "display(p1)"
   ]
  },
  {
   "cell_type": "markdown",
   "metadata": {},
   "source": [
    "- The estimated regression function is\n",
    "\n",
    "\\begin{align}\n",
    "\\widehat{FatalityRate} =  -\\underset{(0.35)}{0.64} \\times BeerTax + StateEffects + TimeFixedEffects\n",
    "\\end{align}"
   ]
  },
  {
   "cell_type": "code",
   "execution_count": null,
   "metadata": {},
   "outputs": [],
   "source": []
  }
 ],
 "metadata": {
  "kernelspec": {
   "display_name": "Julia 1.0.3 (4 threads)",
   "language": "julia",
   "name": "julia-1.0k"
  },
  "language_info": {
   "file_extension": ".jl",
   "mimetype": "application/julia",
   "name": "julia",
   "version": "1.0.3"
  }
 },
 "nbformat": 4,
 "nbformat_minor": 2
}
