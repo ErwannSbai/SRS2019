{
 "cells": [
  {
   "cell_type": "markdown",
   "metadata": {},
   "source": [
    "## 5.1 Testing Two-Sided Hypotheses Concerning the Slope Coefficient"
   ]
  },
  {
   "cell_type": "markdown",
   "metadata": {},
   "source": [
    "- We use the fact that $\\hat{\\beta}_1$ is approximately normally distributed in large samples in order to test hypotheses about the true value $\\beta_1$."
   ]
  },
  {
   "cell_type": "markdown",
   "metadata": {},
   "source": [
    "### General Form of the t-Statistic"
   ]
  },
  {
   "cell_type": "markdown",
   "metadata": {},
   "source": [
    "\\begin{equation}\n",
    "t = \\frac{\\text{estimated value} - \\text{hypothesized value}}{\\text{standard error of the estimator}}\n",
    "\\end{equation}"
   ]
  },
  {
   "cell_type": "markdown",
   "metadata": {},
   "source": [
    "### Testing Hypotheses regarding $\\beta_1$"
   ]
  },
  {
   "cell_type": "markdown",
   "metadata": {},
   "source": [
    "For testing the hypothesis $H_0: \\beta_1 = \\beta_{1,0}$, we need to perform the following steps:\n",
    "1. Compute the standard error of $\\hat{\\beta}_1$, $SE(\\hat{\\beta}_1)$\n",
    "\\begin{equation}\n",
    "SE(\\hat{\\beta}_1) = \\sqrt{ \\hat{\\sigma}^2_{\\hat{\\beta}_1} } \\ \\ , \\ \\ \n",
    "  \\hat{\\sigma}^2_{\\hat{\\beta}_1} = \\frac{1}{n} \\times \\frac{\\frac{1}{n-2} \\sum_{i=1}^n (X_i - \\overline{X})^2 \\hat{u_i}^2 }{ \\left[ \\frac{1}{n} \\sum_{i=1}^n (X_i - \\overline{X})^2 \\right]^2}\n",
    "\\end{equation}\n",
    "2. Compute the t-statistic\n",
    "\\begin{equation}\n",
    "t = \\frac{\\hat{\\beta}_1 - \\beta_{1,0}}{ SE(\\hat{\\beta}_1) }\n",
    "\\end{equation}\n",
    "\n",
    "\n",
    "3. Given a two sided alternative $(H_1:\\beta_1 \\neq \\beta_{1,0})$ we reject at the $5\\%$ level if $|t^{act}| > 1.96$ or, equivalently, if the p-value is less than 0.05."
   ]
  },
  {
   "cell_type": "markdown",
   "metadata": {},
   "source": [
    "- Consider again the OLS regression from Chapter 4 that gave us the regression line:\n",
    "\n",
    "\\begin{equation}\n",
    "\\widehat{TestScore} \\ = \\underset{(9.47)}{698.9} - \\underset{(0.49)}{2.28} \\times STR \\ , \\ R^2=0.051 \\ , \\ SER=18.6\n",
    "\\end{equation}\n",
    "\n",
    "- For testing a hypothesis concerning the slope parameter (the coefficient on STR), we need $SE(\\hat{\\beta}_1)$, the standard error of the respective point estimator.\n",
    "- However, it is rather cumbersome to compute the standard error and thereby the t-statistic by hand. \n",
    "- Instead, the regression model calculates and displays the standard error, t-statistic, and p-value for us.\n"
   ]
  },
  {
   "cell_type": "code",
   "execution_count": 2,
   "metadata": {},
   "outputs": [
    {
     "name": "stdout",
     "output_type": "stream",
     "text": [
      "                                 Linear Model                                 \n",
      "===============================================================================\n",
      "Number of obs:                     420   Degrees of freedom:                  2\n",
      "R2:                              0.051   R2 Adjusted:                     0.049\n",
      "F Statistic:                   22.5751   p-value:                         0.000\n",
      "===============================================================================\n",
      "                       Estimate Std.Error  t value Pr(>|t|) Lower 95% Upper 95%\n",
      "-------------------------------------------------------------------------------\n",
      "student_teacher_ratio  -2.27981  0.479826 -4.75133    0.000  -3.22298  -1.33664\n",
      "(Intercept)             698.933   9.46749  73.8245    0.000   680.323   717.543\n",
      "===============================================================================\n",
      "\n"
     ]
    }
   ],
   "source": [
    "using FixedEffects #FixedEffectModels requires FixedEffects as a dependency\n",
    "using FixedEffectModels #we use FixedEffectModels to create regression models\n",
    "using CSV #we use the CSV package to load the data\n",
    "using DataFrames #we use the DataFrames package as the data is stored as an object of type \"DataFrame\"\n",
    "using Plots #we use the Plots package for generating plots\n",
    "\n",
    "data = CSV.read(\"/mnt/juliabox/Econometrics With Julia/Datasets/CASchools.csv\") #load the data into the workspace and store it in the variable \"data\"\n",
    "\n",
    "data.student_teacher_ratio = data.students ./ data.teachers #add a new column \"student_teacher_ratio\" to the data, ./ is used to broadcast the division operator between arrays (or in this case, columns)\n",
    "data.score = (data.read .+ data.math) ./ 2 #add a new column \"score\" to the data\n",
    "\n",
    "reg_mod = reg( #initialise a FixedEffectModel and define it as reg_mod\n",
    "                        data, #pass the DataFrame 'data' as the dataset to be used in reg_mod\n",
    "                        @formula(score ~ student_teacher_ratio) #pass the regression formula consisting of the dependent variable 'score' and the exogenous variable 'student_teacher_ratio'\n",
    ")\n",
    "\n",
    "println(reg_mod)"
   ]
  },
  {
   "cell_type": "code",
   "execution_count": null,
   "metadata": {},
   "outputs": [],
   "source": []
  }
 ],
 "metadata": {
  "kernelspec": {
   "display_name": "Julia 1.0.3 (4 threads)",
   "language": "julia",
   "name": "julia-1.0k"
  },
  "language_info": {
   "file_extension": ".jl",
   "mimetype": "application/julia",
   "name": "julia",
   "version": "1.0.3"
  }
 },
 "nbformat": 4,
 "nbformat_minor": 2
}
