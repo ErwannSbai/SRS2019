{
 "cells": [
  {
   "cell_type": "markdown",
   "metadata": {},
   "source": [
    "## 3.3 Confidence Intervals for the Population Mean"
   ]
  },
  {
   "cell_type": "markdown",
   "metadata": {},
   "source": [
    "- It is not possible for us to estimate the exact value of the population mean of Y using a random sample. \n",
    "- However, we can compute confidence intervals for the population mean. \n",
    "- In general, a confidence interval for an unknown parameter is a recipe that, in repeated samples, yields intervals that contain the true parameter with a prespecified probability, the confidence level. \n",
    "- Confidence intervals are computed using the information available in the sample. \n",
    "- Since this information is the result of a random process, confidence intervals are random variables themselves.\n",
    "- A 95% confidence interval for $μ_Y$ is a random variable that contains the true $μ_Y$ in 95% of all possible random samples. \n",
    "- When n is large we can use the normal approximation so that the 99%, 95%, 90% confidence intervals are\n",
    "\n",
    "\\begin{align}\n",
    "&99\\%\\text{ confidence interval for } \\mu_Y = \\left[ \\overline{Y} \\pm 2.58 \\times SE(\\overline{Y}) \\right], \\\\\n",
    "&95\\%\\text{ confidence interval for } \\mu_Y = \\left[\\overline{Y} \\pm 1.96 \\times SE(\\overline{Y}) \\right], \\\\\n",
    "&90\\%\\text{ confidence interval for } \\mu_Y = \\left[ \\overline{Y} \\pm 1.64 \\times SE(\\overline{Y}) \\right].\n",
    "\\end{align}\n",
    "\n",
    "- These confidence intervals are sets of null hypotheses we cannot reject in a two-sided hypothesis test at the given level of confidence.\n",
    "- In Julia, testing of hypotheses about the mean of a population on the basis of a random sample is very easy due to functions like OneSampleTTest() from the HypothesisTests package"
   ]
  },
  {
   "cell_type": "code",
   "execution_count": 9,
   "metadata": {},
   "outputs": [
    {
     "data": {
      "text/plain": [
       "One sample t-test\n",
       "-----------------\n",
       "Population details:\n",
       "    parameter of interest:   Mean\n",
       "    value under h_0:         0\n",
       "    point estimate:          10.68\n",
       "    95% confidence interval: (9.4585, 11.9015)\n",
       "\n",
       "Test summary:\n",
       "    outcome with 95% confidence: reject h_0\n",
       "    two-sided p-value:           <1e-31\n",
       "\n",
       "Details:\n",
       "    number of observations:   100\n",
       "    t-statistic:              17.348875307139394\n",
       "    degrees of freedom:       99\n",
       "    empirical standard error: 0.6156018653039126\n"
      ]
     },
     "execution_count": 9,
     "metadata": {},
     "output_type": "execute_result"
    }
   ],
   "source": [
    "using HypothesisTests\n",
    "\n",
    "random_data = vec(rand(range(0, 20), 1, 100)) #we use vec because the OneSampleTTest requires a vector type\n",
    "OneSampleTTest(random_data)"
   ]
  },
  {
   "cell_type": "code",
   "execution_count": null,
   "metadata": {},
   "outputs": [],
   "source": []
  }
 ],
 "metadata": {
  "kernelspec": {
   "display_name": "Julia 1.0.3 (4 threads)",
   "language": "julia",
   "name": "julia-1.0k"
  },
  "language_info": {
   "file_extension": ".jl",
   "mimetype": "application/julia",
   "name": "julia",
   "version": "1.0.3"
  }
 },
 "nbformat": 4,
 "nbformat_minor": 2
}
